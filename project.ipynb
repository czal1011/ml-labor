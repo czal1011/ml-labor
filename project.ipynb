{
 "cells": [
  {
   "cell_type": "markdown",
   "metadata": {},
   "source": [
    "# **Projekt Maschinelles Lernen**"
   ]
  },
  {
   "cell_type": "markdown",
   "metadata": {},
   "source": [
    "Autoren:\n",
    "- Alexander Czaja (czal1011)\n",
    "- Jonathan Haller (hajo1038)"
   ]
  },
  {
   "cell_type": "markdown",
   "metadata": {},
   "source": [
    "## Trainingsdaten laden"
   ]
  },
  {
   "cell_type": "code",
   "execution_count": 1,
   "metadata": {},
   "outputs": [
    {
     "name": "stdout",
     "output_type": "stream",
     "text": [
      "Pandas Version: 1.4.1 \n",
      "Sklearn Version: 1.0.2 \n",
      "Numpy Version: 1.21.5\n"
     ]
    }
   ],
   "source": [
    "import pandas as pd, sklearn, numpy as np\n",
    "print(\"Pandas Version:\", pd.__version__, \"\\nSklearn Version:\", sklearn.__version__, \"\\nNumpy Version:\", np.__version__)\n",
    "\n",
    "pd.options.mode.chained_assignment = None # Einige False-Positive-Warnungen werden unterdrückt"
   ]
  },
  {
   "cell_type": "code",
   "execution_count": 2,
   "metadata": {},
   "outputs": [
    {
     "data": {
      "text/html": [
       "<div>\n",
       "<style scoped>\n",
       "    .dataframe tbody tr th:only-of-type {\n",
       "        vertical-align: middle;\n",
       "    }\n",
       "\n",
       "    .dataframe tbody tr th {\n",
       "        vertical-align: top;\n",
       "    }\n",
       "\n",
       "    .dataframe thead th {\n",
       "        text-align: right;\n",
       "    }\n",
       "</style>\n",
       "<table border=\"1\" class=\"dataframe\">\n",
       "  <thead>\n",
       "    <tr style=\"text-align: right;\">\n",
       "      <th></th>\n",
       "      <th>transactionId</th>\n",
       "      <th>basket</th>\n",
       "      <th>customerType</th>\n",
       "      <th>totalAmount</th>\n",
       "      <th>returnLabel</th>\n",
       "    </tr>\n",
       "  </thead>\n",
       "  <tbody>\n",
       "    <tr>\n",
       "      <th>0</th>\n",
       "      <td>9534310106</td>\n",
       "      <td>[4, 3, 4]</td>\n",
       "      <td>new</td>\n",
       "      <td>252.0</td>\n",
       "      <td>1</td>\n",
       "    </tr>\n",
       "    <tr>\n",
       "      <th>1</th>\n",
       "      <td>7202594767</td>\n",
       "      <td>[4, 2, 0, 2, 5]</td>\n",
       "      <td>existing</td>\n",
       "      <td>70.0</td>\n",
       "      <td>0</td>\n",
       "    </tr>\n",
       "    <tr>\n",
       "      <th>2</th>\n",
       "      <td>2737331698</td>\n",
       "      <td>[5]</td>\n",
       "      <td>existing</td>\n",
       "      <td>84.0</td>\n",
       "      <td>0</td>\n",
       "    </tr>\n",
       "    <tr>\n",
       "      <th>3</th>\n",
       "      <td>4868011733</td>\n",
       "      <td>[1, 4, 2, 4]</td>\n",
       "      <td>existing</td>\n",
       "      <td>116.0</td>\n",
       "      <td>0</td>\n",
       "    </tr>\n",
       "    <tr>\n",
       "      <th>4</th>\n",
       "      <td>7622406570</td>\n",
       "      <td>[2, 5, 3, 2, 3, 2, 0]</td>\n",
       "      <td>existing</td>\n",
       "      <td>378.0</td>\n",
       "      <td>0</td>\n",
       "    </tr>\n",
       "  </tbody>\n",
       "</table>\n",
       "</div>"
      ],
      "text/plain": [
       "   transactionId                 basket customerType  totalAmount  returnLabel\n",
       "0     9534310106              [4, 3, 4]          new        252.0            1\n",
       "1     7202594767        [4, 2, 0, 2, 5]     existing         70.0            0\n",
       "2     2737331698                    [5]     existing         84.0            0\n",
       "3     4868011733           [1, 4, 2, 4]     existing        116.0            0\n",
       "4     7622406570  [2, 5, 3, 2, 3, 2, 0]     existing        378.0            0"
      ]
     },
     "execution_count": 2,
     "metadata": {},
     "output_type": "execute_result"
    }
   ],
   "source": [
    "df = pd.read_csv('train.csv', sep=';')  # Trennzeichen (;) muss angegeben werden durch den Parameter sep\n",
    "df.head()"
   ]
  },
  {
   "cell_type": "code",
   "execution_count": 3,
   "metadata": {},
   "outputs": [
    {
     "name": "stdout",
     "output_type": "stream",
     "text": [
      "Anzahl Zeilen: 22400\n"
     ]
    }
   ],
   "source": [
    "print(\"Anzahl Zeilen: \" + str(len(df)))"
   ]
  },
  {
   "cell_type": "markdown",
   "metadata": {},
   "source": [
    "## Exploratory Data Analysis"
   ]
  },
  {
   "cell_type": "markdown",
   "metadata": {},
   "source": [
    "### Histogramme"
   ]
  },
  {
   "cell_type": "markdown",
   "metadata": {},
   "source": [
    "Histogramm von `customerType`"
   ]
  },
  {
   "cell_type": "code",
   "execution_count": 4,
   "metadata": {},
   "outputs": [
    {
     "data": {
      "text/plain": [
       "<AxesSubplot:>"
      ]
     },
     "execution_count": 4,
     "metadata": {},
     "output_type": "execute_result"
    },
    {
     "data": {
      "image/png": "[encoded data removed]",
      "text/plain": [
       "<Figure size 432x288 with 1 Axes>"
      ]
     },
     "metadata": {
      "needs_background": "light"
     },
     "output_type": "display_data"
    }
   ],
   "source": [
    "df['customerType'].hist()"
   ]
  },
  {
   "cell_type": "markdown",
   "metadata": {},
   "source": [
    "Histogramm von `totalAmount`"
   ]
  },
  {
   "cell_type": "code",
   "execution_count": 5,
   "metadata": {},
   "outputs": [
    {
     "data": {
      "text/plain": [
       "<AxesSubplot:>"
      ]
     },
     "execution_count": 5,
     "metadata": {},
     "output_type": "execute_result"
    },
    {
     "data": {
      "image/png": "[encoded data removed]",
      "text/plain": [
       "<Figure size 432x288 with 1 Axes>"
      ]
     },
     "metadata": {
      "needs_background": "light"
     },
     "output_type": "display_data"
    }
   ],
   "source": [
    "df['totalAmount'].hist()"
   ]
  },
  {
   "cell_type": "markdown",
   "metadata": {},
   "source": [
    "Verteilung von `ReturnLabel` über alle Daten"
   ]
  },
  {
   "cell_type": "code",
   "execution_count": 6,
   "metadata": {},
   "outputs": [
    {
     "data": {
      "text/plain": [
       "<AxesSubplot:>"
      ]
     },
     "execution_count": 6,
     "metadata": {},
     "output_type": "execute_result"
    },
    {
     "data": {
      "image/png": "[encoded data removed]",
      "text/plain": [
       "<Figure size 432x288 with 1 Axes>"
      ]
     },
     "metadata": {
      "needs_background": "light"
     },
     "output_type": "display_data"
    }
   ],
   "source": [
    "df['returnLabel'].hist()"
   ]
  },
  {
   "cell_type": "markdown",
   "metadata": {},
   "source": [
    "Verteilung von `returnLabel` in Abhängigkeit zu allen Ausprägungen von `customerType`"
   ]
  },
  {
   "cell_type": "code",
   "execution_count": 7,
   "metadata": {},
   "outputs": [
    {
     "data": {
      "text/plain": [
       "array([<AxesSubplot:title={'center':'existing'}>,\n",
       "       <AxesSubplot:title={'center':'new'}>], dtype=object)"
      ]
     },
     "execution_count": 7,
     "metadata": {},
     "output_type": "execute_result"
    },
    {
     "data": {
      "image/png": "[encoded data removed]",
      "text/plain": [
       "<Figure size 432x288 with 2 Axes>"
      ]
     },
     "metadata": {
      "needs_background": "light"
     },
     "output_type": "display_data"
    }
   ],
   "source": [
    "df.hist(column=\"returnLabel\", by=\"customerType\", sharey=True)"
   ]
  },
  {
   "cell_type": "markdown",
   "metadata": {},
   "source": [
    "Boxplot für `totalAmount` in Abhängigkeit von `returnLabel`"
   ]
  },
  {
   "cell_type": "code",
   "execution_count": 8,
   "metadata": {},
   "outputs": [
    {
     "data": {
      "text/plain": [
       "<AxesSubplot:title={'center':'totalAmount'}, xlabel='returnLabel'>"
      ]
     },
     "execution_count": 8,
     "metadata": {},
     "output_type": "execute_result"
    },
    {
     "data": {
      "image/png": "[encoded data removed]",
      "text/plain": [
       "<Figure size 432x288 with 1 Axes>"
      ]
     },
     "metadata": {
      "needs_background": "light"
     },
     "output_type": "display_data"
    }
   ],
   "source": [
    "df.boxplot(by='returnLabel', column='totalAmount')"
   ]
  },
  {
   "cell_type": "markdown",
   "metadata": {},
   "source": [
    "Displot für `totalAmount` in Abhängigkeit von `returnLabel`"
   ]
  },
  {
   "cell_type": "code",
   "execution_count": 9,
   "metadata": {},
   "outputs": [
    {
     "data": {
      "text/plain": [
       "<seaborn.axisgrid.FacetGrid at 0x1972f088fd0>"
      ]
     },
     "execution_count": 9,
     "metadata": {},
     "output_type": "execute_result"
    },
    {
     "data": {
      "image/png": "[encoded data removed]",
      "text/plain": [
       "<Figure size 425.5x360 with 1 Axes>"
      ]
     },
     "metadata": {
      "needs_background": "light"
     },
     "output_type": "display_data"
    }
   ],
   "source": [
    "import seaborn as sns\n",
    "sns.displot(df, x='totalAmount', hue='returnLabel')"
   ]
  },
  {
   "cell_type": "markdown",
   "metadata": {},
   "source": [
    "# Bearbeitung der Trainingsdaten"
   ]
  },
  {
   "cell_type": "markdown",
   "metadata": {},
   "source": [
    "## Null-Werte in den Trainingsdaten"
   ]
  },
  {
   "cell_type": "code",
   "execution_count": 10,
   "metadata": {},
   "outputs": [
    {
     "data": {
      "text/plain": [
       "transactionId      0\n",
       "basket             0\n",
       "customerType     442\n",
       "totalAmount      477\n",
       "returnLabel        0\n",
       "dtype: int64"
      ]
     },
     "execution_count": 10,
     "metadata": {},
     "output_type": "execute_result"
    }
   ],
   "source": [
    "df.isna().sum()"
   ]
  },
  {
   "cell_type": "markdown",
   "metadata": {},
   "source": [
    "Auffüllen der Null-Werte in der Spalte `totalAmount` und Entfernen der restlichen Zeilen mit Null-Werten"
   ]
  },
  {
   "cell_type": "code",
   "execution_count": 11,
   "metadata": {
    "scrolled": true
   },
   "outputs": [
    {
     "name": "stdout",
     "output_type": "stream",
     "text": [
      "transactionId    0\n",
      "basket           0\n",
      "customerType     0\n",
      "totalAmount      0\n",
      "returnLabel      0\n",
      "dtype: int64\n",
      "Durchschnittlicher Gesamtpreis: 259.05601423162886\n",
      "Anzahl Zeilen: 21958\n"
     ]
    }
   ],
   "source": [
    "avg_amount = df['totalAmount'].mean()\n",
    "df['totalAmount'] = df['totalAmount'].fillna(avg_amount)\n",
    "df = df.dropna()\n",
    "print(df.isna().sum())\n",
    "print(\"Durchschnittlicher Gesamtpreis: \" + str(avg_amount) + \"\\nAnzahl Zeilen: \" + str(len(df)))"
   ]
  },
  {
   "cell_type": "markdown",
   "metadata": {},
   "source": [
    "One-Hot Encoding des kategorischen Feature `customerType`"
   ]
  },
  {
   "cell_type": "code",
   "execution_count": 12,
   "metadata": {},
   "outputs": [
    {
     "data": {
      "text/html": [
       "<div>\n",
       "<style scoped>\n",
       "    .dataframe tbody tr th:only-of-type {\n",
       "        vertical-align: middle;\n",
       "    }\n",
       "\n",
       "    .dataframe tbody tr th {\n",
       "        vertical-align: top;\n",
       "    }\n",
       "\n",
       "    .dataframe thead th {\n",
       "        text-align: right;\n",
       "    }\n",
       "</style>\n",
       "<table border=\"1\" class=\"dataframe\">\n",
       "  <thead>\n",
       "    <tr style=\"text-align: right;\">\n",
       "      <th></th>\n",
       "      <th>transactionId</th>\n",
       "      <th>basket</th>\n",
       "      <th>totalAmount</th>\n",
       "      <th>returnLabel</th>\n",
       "      <th>customerType_existing</th>\n",
       "      <th>customerType_new</th>\n",
       "    </tr>\n",
       "  </thead>\n",
       "  <tbody>\n",
       "    <tr>\n",
       "      <th>0</th>\n",
       "      <td>9534310106</td>\n",
       "      <td>[4, 3, 4]</td>\n",
       "      <td>252.0</td>\n",
       "      <td>1</td>\n",
       "      <td>0</td>\n",
       "      <td>1</td>\n",
       "    </tr>\n",
       "    <tr>\n",
       "      <th>1</th>\n",
       "      <td>7202594767</td>\n",
       "      <td>[4, 2, 0, 2, 5]</td>\n",
       "      <td>70.0</td>\n",
       "      <td>0</td>\n",
       "      <td>1</td>\n",
       "      <td>0</td>\n",
       "    </tr>\n",
       "    <tr>\n",
       "      <th>2</th>\n",
       "      <td>2737331698</td>\n",
       "      <td>[5]</td>\n",
       "      <td>84.0</td>\n",
       "      <td>0</td>\n",
       "      <td>1</td>\n",
       "      <td>0</td>\n",
       "    </tr>\n",
       "    <tr>\n",
       "      <th>3</th>\n",
       "      <td>4868011733</td>\n",
       "      <td>[1, 4, 2, 4]</td>\n",
       "      <td>116.0</td>\n",
       "      <td>0</td>\n",
       "      <td>1</td>\n",
       "      <td>0</td>\n",
       "    </tr>\n",
       "    <tr>\n",
       "      <th>4</th>\n",
       "      <td>7622406570</td>\n",
       "      <td>[2, 5, 3, 2, 3, 2, 0]</td>\n",
       "      <td>378.0</td>\n",
       "      <td>0</td>\n",
       "      <td>1</td>\n",
       "      <td>0</td>\n",
       "    </tr>\n",
       "  </tbody>\n",
       "</table>\n",
       "</div>"
      ],
      "text/plain": [
       "   transactionId                 basket  totalAmount  returnLabel  \\\n",
       "0     9534310106              [4, 3, 4]        252.0            1   \n",
       "1     7202594767        [4, 2, 0, 2, 5]         70.0            0   \n",
       "2     2737331698                    [5]         84.0            0   \n",
       "3     4868011733           [1, 4, 2, 4]        116.0            0   \n",
       "4     7622406570  [2, 5, 3, 2, 3, 2, 0]        378.0            0   \n",
       "\n",
       "   customerType_existing  customerType_new  \n",
       "0                      0                 1  \n",
       "1                      1                 0  \n",
       "2                      1                 0  \n",
       "3                      1                 0  \n",
       "4                      1                 0  "
      ]
     },
     "execution_count": 12,
     "metadata": {},
     "output_type": "execute_result"
    }
   ],
   "source": [
    "df = pd.get_dummies(df, columns=['customerType'])\n",
    "df.head()"
   ]
  },
  {
   "cell_type": "markdown",
   "metadata": {},
   "source": [
    "Transformation von `basket`"
   ]
  },
  {
   "cell_type": "markdown",
   "metadata": {},
   "source": [
    "Kategorien von `basket`:\n",
    "- Wie oft kommt jede Kategorie im `basket` vor?\n",
    "- Anzahl Bücher im `basket`?"
   ]
  },
  {
   "cell_type": "markdown",
   "metadata": {},
   "source": [
    "Anzahl Bücher im `basket` (`basket_size`):"
   ]
  },
  {
   "cell_type": "code",
   "execution_count": 13,
   "metadata": {},
   "outputs": [
    {
     "data": {
      "text/html": [
       "<div>\n",
       "<style scoped>\n",
       "    .dataframe tbody tr th:only-of-type {\n",
       "        vertical-align: middle;\n",
       "    }\n",
       "\n",
       "    .dataframe tbody tr th {\n",
       "        vertical-align: top;\n",
       "    }\n",
       "\n",
       "    .dataframe thead th {\n",
       "        text-align: right;\n",
       "    }\n",
       "</style>\n",
       "<table border=\"1\" class=\"dataframe\">\n",
       "  <thead>\n",
       "    <tr style=\"text-align: right;\">\n",
       "      <th></th>\n",
       "      <th>transactionId</th>\n",
       "      <th>basket</th>\n",
       "      <th>totalAmount</th>\n",
       "      <th>returnLabel</th>\n",
       "      <th>customerType_existing</th>\n",
       "      <th>customerType_new</th>\n",
       "    </tr>\n",
       "  </thead>\n",
       "  <tbody>\n",
       "    <tr>\n",
       "      <th>0</th>\n",
       "      <td>9534310106</td>\n",
       "      <td>[4, 3, 4]</td>\n",
       "      <td>252.0</td>\n",
       "      <td>1</td>\n",
       "      <td>0</td>\n",
       "      <td>1</td>\n",
       "    </tr>\n",
       "    <tr>\n",
       "      <th>1</th>\n",
       "      <td>7202594767</td>\n",
       "      <td>[4, 2, 0, 2, 5]</td>\n",
       "      <td>70.0</td>\n",
       "      <td>0</td>\n",
       "      <td>1</td>\n",
       "      <td>0</td>\n",
       "    </tr>\n",
       "    <tr>\n",
       "      <th>2</th>\n",
       "      <td>2737331698</td>\n",
       "      <td>[5]</td>\n",
       "      <td>84.0</td>\n",
       "      <td>0</td>\n",
       "      <td>1</td>\n",
       "      <td>0</td>\n",
       "    </tr>\n",
       "    <tr>\n",
       "      <th>3</th>\n",
       "      <td>4868011733</td>\n",
       "      <td>[1, 4, 2, 4]</td>\n",
       "      <td>116.0</td>\n",
       "      <td>0</td>\n",
       "      <td>1</td>\n",
       "      <td>0</td>\n",
       "    </tr>\n",
       "    <tr>\n",
       "      <th>4</th>\n",
       "      <td>7622406570</td>\n",
       "      <td>[2, 5, 3, 2, 3, 2, 0]</td>\n",
       "      <td>378.0</td>\n",
       "      <td>0</td>\n",
       "      <td>1</td>\n",
       "      <td>0</td>\n",
       "    </tr>\n",
       "  </tbody>\n",
       "</table>\n",
       "</div>"
      ],
      "text/plain": [
       "   transactionId                 basket  totalAmount  returnLabel  \\\n",
       "0     9534310106              [4, 3, 4]        252.0            1   \n",
       "1     7202594767        [4, 2, 0, 2, 5]         70.0            0   \n",
       "2     2737331698                    [5]         84.0            0   \n",
       "3     4868011733           [1, 4, 2, 4]        116.0            0   \n",
       "4     7622406570  [2, 5, 3, 2, 3, 2, 0]        378.0            0   \n",
       "\n",
       "   customerType_existing  customerType_new  \n",
       "0                      0                 1  \n",
       "1                      1                 0  \n",
       "2                      1                 0  \n",
       "3                      1                 0  \n",
       "4                      1                 0  "
      ]
     },
     "execution_count": 13,
     "metadata": {},
     "output_type": "execute_result"
    }
   ],
   "source": [
    "df.head()"
   ]
  },
  {
   "cell_type": "markdown",
   "metadata": {},
   "source": [
    "Wie oft kommt eine Kategorie im `basket` vor?"
   ]
  },
  {
   "cell_type": "code",
   "execution_count": 14,
   "metadata": {},
   "outputs": [
    {
     "data": {
      "text/html": [
       "<div>\n",
       "<style scoped>\n",
       "    .dataframe tbody tr th:only-of-type {\n",
       "        vertical-align: middle;\n",
       "    }\n",
       "\n",
       "    .dataframe tbody tr th {\n",
       "        vertical-align: top;\n",
       "    }\n",
       "\n",
       "    .dataframe thead th {\n",
       "        text-align: right;\n",
       "    }\n",
       "</style>\n",
       "<table border=\"1\" class=\"dataframe\">\n",
       "  <thead>\n",
       "    <tr style=\"text-align: right;\">\n",
       "      <th></th>\n",
       "      <th>transactionId</th>\n",
       "      <th>basket</th>\n",
       "      <th>totalAmount</th>\n",
       "      <th>returnLabel</th>\n",
       "      <th>customerType_existing</th>\n",
       "      <th>customerType_new</th>\n",
       "      <th>basket_0</th>\n",
       "      <th>basket_1</th>\n",
       "      <th>basket_2</th>\n",
       "      <th>basket_3</th>\n",
       "      <th>basket_4</th>\n",
       "      <th>basket_5</th>\n",
       "    </tr>\n",
       "  </thead>\n",
       "  <tbody>\n",
       "    <tr>\n",
       "      <th>0</th>\n",
       "      <td>9534310106</td>\n",
       "      <td>[4, 3, 4]</td>\n",
       "      <td>252.0</td>\n",
       "      <td>1</td>\n",
       "      <td>0</td>\n",
       "      <td>1</td>\n",
       "      <td>0</td>\n",
       "      <td>0</td>\n",
       "      <td>0</td>\n",
       "      <td>1</td>\n",
       "      <td>2</td>\n",
       "      <td>0</td>\n",
       "    </tr>\n",
       "    <tr>\n",
       "      <th>1</th>\n",
       "      <td>7202594767</td>\n",
       "      <td>[4, 2, 0, 2, 5]</td>\n",
       "      <td>70.0</td>\n",
       "      <td>0</td>\n",
       "      <td>1</td>\n",
       "      <td>0</td>\n",
       "      <td>1</td>\n",
       "      <td>0</td>\n",
       "      <td>2</td>\n",
       "      <td>0</td>\n",
       "      <td>1</td>\n",
       "      <td>1</td>\n",
       "    </tr>\n",
       "    <tr>\n",
       "      <th>2</th>\n",
       "      <td>2737331698</td>\n",
       "      <td>[5]</td>\n",
       "      <td>84.0</td>\n",
       "      <td>0</td>\n",
       "      <td>1</td>\n",
       "      <td>0</td>\n",
       "      <td>0</td>\n",
       "      <td>0</td>\n",
       "      <td>0</td>\n",
       "      <td>0</td>\n",
       "      <td>0</td>\n",
       "      <td>1</td>\n",
       "    </tr>\n",
       "    <tr>\n",
       "      <th>3</th>\n",
       "      <td>4868011733</td>\n",
       "      <td>[1, 4, 2, 4]</td>\n",
       "      <td>116.0</td>\n",
       "      <td>0</td>\n",
       "      <td>1</td>\n",
       "      <td>0</td>\n",
       "      <td>0</td>\n",
       "      <td>1</td>\n",
       "      <td>1</td>\n",
       "      <td>0</td>\n",
       "      <td>2</td>\n",
       "      <td>0</td>\n",
       "    </tr>\n",
       "    <tr>\n",
       "      <th>4</th>\n",
       "      <td>7622406570</td>\n",
       "      <td>[2, 5, 3, 2, 3, 2, 0]</td>\n",
       "      <td>378.0</td>\n",
       "      <td>0</td>\n",
       "      <td>1</td>\n",
       "      <td>0</td>\n",
       "      <td>1</td>\n",
       "      <td>0</td>\n",
       "      <td>3</td>\n",
       "      <td>2</td>\n",
       "      <td>0</td>\n",
       "      <td>1</td>\n",
       "    </tr>\n",
       "  </tbody>\n",
       "</table>\n",
       "</div>"
      ],
      "text/plain": [
       "   transactionId                 basket  totalAmount  returnLabel  \\\n",
       "0     9534310106              [4, 3, 4]        252.0            1   \n",
       "1     7202594767        [4, 2, 0, 2, 5]         70.0            0   \n",
       "2     2737331698                    [5]         84.0            0   \n",
       "3     4868011733           [1, 4, 2, 4]        116.0            0   \n",
       "4     7622406570  [2, 5, 3, 2, 3, 2, 0]        378.0            0   \n",
       "\n",
       "   customerType_existing  customerType_new  basket_0  basket_1  basket_2  \\\n",
       "0                      0                 1         0         0         0   \n",
       "1                      1                 0         1         0         2   \n",
       "2                      1                 0         0         0         0   \n",
       "3                      1                 0         0         1         1   \n",
       "4                      1                 0         1         0         3   \n",
       "\n",
       "   basket_3  basket_4  basket_5  \n",
       "0         1         2         0  \n",
       "1         0         1         1  \n",
       "2         0         0         1  \n",
       "3         0         2         0  \n",
       "4         2         0         1  "
      ]
     },
     "execution_count": 14,
     "metadata": {},
     "output_type": "execute_result"
    }
   ],
   "source": [
    "df['basket_0'] = df['basket'].map(lambda x: x.count('0'))\n",
    "df['basket_1'] = df['basket'].map(lambda x: x.count('1'))\n",
    "df['basket_2'] = df['basket'].map(lambda x: x.count('2'))\n",
    "df['basket_3'] = df['basket'].map(lambda x: x.count('3'))\n",
    "df['basket_4'] = df['basket'].map(lambda x: x.count('4'))\n",
    "df['basket_5'] = df['basket'].map(lambda x: x.count('5'))\n",
    "df.head()"
   ]
  },
  {
   "cell_type": "markdown",
   "metadata": {},
   "source": [
    "**Entfernen des Labels und vom Basket**"
   ]
  },
  {
   "cell_type": "code",
   "execution_count": 15,
   "metadata": {},
   "outputs": [
    {
     "data": {
      "text/html": [
       "<div>\n",
       "<style scoped>\n",
       "    .dataframe tbody tr th:only-of-type {\n",
       "        vertical-align: middle;\n",
       "    }\n",
       "\n",
       "    .dataframe tbody tr th {\n",
       "        vertical-align: top;\n",
       "    }\n",
       "\n",
       "    .dataframe thead th {\n",
       "        text-align: right;\n",
       "    }\n",
       "</style>\n",
       "<table border=\"1\" class=\"dataframe\">\n",
       "  <thead>\n",
       "    <tr style=\"text-align: right;\">\n",
       "      <th></th>\n",
       "      <th>transactionId</th>\n",
       "      <th>totalAmount</th>\n",
       "      <th>customerType_existing</th>\n",
       "      <th>customerType_new</th>\n",
       "      <th>basket_0</th>\n",
       "      <th>basket_1</th>\n",
       "      <th>basket_2</th>\n",
       "      <th>basket_3</th>\n",
       "      <th>basket_4</th>\n",
       "      <th>basket_5</th>\n",
       "    </tr>\n",
       "  </thead>\n",
       "  <tbody>\n",
       "    <tr>\n",
       "      <th>0</th>\n",
       "      <td>9534310106</td>\n",
       "      <td>252.0</td>\n",
       "      <td>0</td>\n",
       "      <td>1</td>\n",
       "      <td>0</td>\n",
       "      <td>0</td>\n",
       "      <td>0</td>\n",
       "      <td>1</td>\n",
       "      <td>2</td>\n",
       "      <td>0</td>\n",
       "    </tr>\n",
       "    <tr>\n",
       "      <th>1</th>\n",
       "      <td>7202594767</td>\n",
       "      <td>70.0</td>\n",
       "      <td>1</td>\n",
       "      <td>0</td>\n",
       "      <td>1</td>\n",
       "      <td>0</td>\n",
       "      <td>2</td>\n",
       "      <td>0</td>\n",
       "      <td>1</td>\n",
       "      <td>1</td>\n",
       "    </tr>\n",
       "    <tr>\n",
       "      <th>2</th>\n",
       "      <td>2737331698</td>\n",
       "      <td>84.0</td>\n",
       "      <td>1</td>\n",
       "      <td>0</td>\n",
       "      <td>0</td>\n",
       "      <td>0</td>\n",
       "      <td>0</td>\n",
       "      <td>0</td>\n",
       "      <td>0</td>\n",
       "      <td>1</td>\n",
       "    </tr>\n",
       "    <tr>\n",
       "      <th>3</th>\n",
       "      <td>4868011733</td>\n",
       "      <td>116.0</td>\n",
       "      <td>1</td>\n",
       "      <td>0</td>\n",
       "      <td>0</td>\n",
       "      <td>1</td>\n",
       "      <td>1</td>\n",
       "      <td>0</td>\n",
       "      <td>2</td>\n",
       "      <td>0</td>\n",
       "    </tr>\n",
       "    <tr>\n",
       "      <th>4</th>\n",
       "      <td>7622406570</td>\n",
       "      <td>378.0</td>\n",
       "      <td>1</td>\n",
       "      <td>0</td>\n",
       "      <td>1</td>\n",
       "      <td>0</td>\n",
       "      <td>3</td>\n",
       "      <td>2</td>\n",
       "      <td>0</td>\n",
       "      <td>1</td>\n",
       "    </tr>\n",
       "  </tbody>\n",
       "</table>\n",
       "</div>"
      ],
      "text/plain": [
       "   transactionId  totalAmount  customerType_existing  customerType_new  \\\n",
       "0     9534310106        252.0                      0                 1   \n",
       "1     7202594767         70.0                      1                 0   \n",
       "2     2737331698         84.0                      1                 0   \n",
       "3     4868011733        116.0                      1                 0   \n",
       "4     7622406570        378.0                      1                 0   \n",
       "\n",
       "   basket_0  basket_1  basket_2  basket_3  basket_4  basket_5  \n",
       "0         0         0         0         1         2         0  \n",
       "1         1         0         2         0         1         1  \n",
       "2         0         0         0         0         0         1  \n",
       "3         0         1         1         0         2         0  \n",
       "4         1         0         3         2         0         1  "
      ]
     },
     "execution_count": 15,
     "metadata": {},
     "output_type": "execute_result"
    }
   ],
   "source": [
    "df_label = df['returnLabel']\n",
    "df = df.drop(columns=['basket', 'returnLabel'])\n",
    "df.head()"
   ]
  },
  {
   "cell_type": "markdown",
   "metadata": {},
   "source": [
    "Skalieren des Trainingsdatensatzes mit einem `StandardScaler`"
   ]
  },
  {
   "cell_type": "code",
   "execution_count": 16,
   "metadata": {},
   "outputs": [
    {
     "data": {
      "text/html": [
       "<div>\n",
       "<style scoped>\n",
       "    .dataframe tbody tr th:only-of-type {\n",
       "        vertical-align: middle;\n",
       "    }\n",
       "\n",
       "    .dataframe tbody tr th {\n",
       "        vertical-align: top;\n",
       "    }\n",
       "\n",
       "    .dataframe thead th {\n",
       "        text-align: right;\n",
       "    }\n",
       "</style>\n",
       "<table border=\"1\" class=\"dataframe\">\n",
       "  <thead>\n",
       "    <tr style=\"text-align: right;\">\n",
       "      <th></th>\n",
       "      <th>transactionId</th>\n",
       "      <th>totalAmount</th>\n",
       "      <th>customerType_existing</th>\n",
       "      <th>customerType_new</th>\n",
       "      <th>basket_0</th>\n",
       "      <th>basket_1</th>\n",
       "      <th>basket_2</th>\n",
       "      <th>basket_3</th>\n",
       "      <th>basket_4</th>\n",
       "      <th>basket_5</th>\n",
       "    </tr>\n",
       "  </thead>\n",
       "  <tbody>\n",
       "    <tr>\n",
       "      <th>0</th>\n",
       "      <td>1.557757</td>\n",
       "      <td>-0.033626</td>\n",
       "      <td>-1.536751</td>\n",
       "      <td>1.536751</td>\n",
       "      <td>-0.771646</td>\n",
       "      <td>-0.765848</td>\n",
       "      <td>-0.775648</td>\n",
       "      <td>0.073528</td>\n",
       "      <td>0.632575</td>\n",
       "      <td>-0.644999</td>\n",
       "    </tr>\n",
       "    <tr>\n",
       "      <th>1</th>\n",
       "      <td>0.658563</td>\n",
       "      <td>-0.879083</td>\n",
       "      <td>0.650723</td>\n",
       "      <td>-0.650723</td>\n",
       "      <td>0.385401</td>\n",
       "      <td>-0.765848</td>\n",
       "      <td>1.512019</td>\n",
       "      <td>-0.880689</td>\n",
       "      <td>-0.123677</td>\n",
       "      <td>0.525101</td>\n",
       "    </tr>\n",
       "    <tr>\n",
       "      <th>2</th>\n",
       "      <td>-1.063403</td>\n",
       "      <td>-0.814048</td>\n",
       "      <td>0.650723</td>\n",
       "      <td>-0.650723</td>\n",
       "      <td>-0.771646</td>\n",
       "      <td>-0.765848</td>\n",
       "      <td>-0.775648</td>\n",
       "      <td>-0.880689</td>\n",
       "      <td>-0.879928</td>\n",
       "      <td>0.525101</td>\n",
       "    </tr>\n",
       "    <tr>\n",
       "      <th>3</th>\n",
       "      <td>-0.241736</td>\n",
       "      <td>-0.665396</td>\n",
       "      <td>0.650723</td>\n",
       "      <td>-0.650723</td>\n",
       "      <td>-0.771646</td>\n",
       "      <td>0.393111</td>\n",
       "      <td>0.368185</td>\n",
       "      <td>-0.880689</td>\n",
       "      <td>0.632575</td>\n",
       "      <td>-0.644999</td>\n",
       "    </tr>\n",
       "    <tr>\n",
       "      <th>4</th>\n",
       "      <td>0.820458</td>\n",
       "      <td>0.551690</td>\n",
       "      <td>0.650723</td>\n",
       "      <td>-0.650723</td>\n",
       "      <td>0.385401</td>\n",
       "      <td>-0.765848</td>\n",
       "      <td>2.655853</td>\n",
       "      <td>1.027745</td>\n",
       "      <td>-0.879928</td>\n",
       "      <td>0.525101</td>\n",
       "    </tr>\n",
       "  </tbody>\n",
       "</table>\n",
       "</div>"
      ],
      "text/plain": [
       "   transactionId  totalAmount  customerType_existing  customerType_new  \\\n",
       "0       1.557757    -0.033626              -1.536751          1.536751   \n",
       "1       0.658563    -0.879083               0.650723         -0.650723   \n",
       "2      -1.063403    -0.814048               0.650723         -0.650723   \n",
       "3      -0.241736    -0.665396               0.650723         -0.650723   \n",
       "4       0.820458     0.551690               0.650723         -0.650723   \n",
       "\n",
       "   basket_0  basket_1  basket_2  basket_3  basket_4  basket_5  \n",
       "0 -0.771646 -0.765848 -0.775648  0.073528  0.632575 -0.644999  \n",
       "1  0.385401 -0.765848  1.512019 -0.880689 -0.123677  0.525101  \n",
       "2 -0.771646 -0.765848 -0.775648 -0.880689 -0.879928  0.525101  \n",
       "3 -0.771646  0.393111  0.368185 -0.880689  0.632575 -0.644999  \n",
       "4  0.385401 -0.765848  2.655853  1.027745 -0.879928  0.525101  "
      ]
     },
     "execution_count": 16,
     "metadata": {},
     "output_type": "execute_result"
    }
   ],
   "source": [
    "from sklearn.preprocessing import StandardScaler\n",
    "scaler = StandardScaler().fit(df)\n",
    "scaled_values = scaler.transform(df)\n",
    "df_scaled = pd.DataFrame(scaled_values, index=df.index, columns=df.columns)\n",
    "df_scaled.head()"
   ]
  },
  {
   "cell_type": "markdown",
   "metadata": {},
   "source": [
    "## Testdatensatz"
   ]
  },
  {
   "cell_type": "markdown",
   "metadata": {},
   "source": [
    "Laden des Testdatensatzes"
   ]
  },
  {
   "cell_type": "code",
   "execution_count": 17,
   "metadata": {},
   "outputs": [
    {
     "name": "stdout",
     "output_type": "stream",
     "text": [
      "Anzahl Zeilen: 9600\n"
     ]
    },
    {
     "data": {
      "text/html": [
       "<div>\n",
       "<style scoped>\n",
       "    .dataframe tbody tr th:only-of-type {\n",
       "        vertical-align: middle;\n",
       "    }\n",
       "\n",
       "    .dataframe tbody tr th {\n",
       "        vertical-align: top;\n",
       "    }\n",
       "\n",
       "    .dataframe thead th {\n",
       "        text-align: right;\n",
       "    }\n",
       "</style>\n",
       "<table border=\"1\" class=\"dataframe\">\n",
       "  <thead>\n",
       "    <tr style=\"text-align: right;\">\n",
       "      <th></th>\n",
       "      <th>transactionId</th>\n",
       "      <th>basket</th>\n",
       "      <th>customerType</th>\n",
       "      <th>totalAmount</th>\n",
       "      <th>returnLabel</th>\n",
       "    </tr>\n",
       "  </thead>\n",
       "  <tbody>\n",
       "    <tr>\n",
       "      <th>0</th>\n",
       "      <td>4132523932</td>\n",
       "      <td>[4, 3, 4, 3, 2, 3]</td>\n",
       "      <td>existing</td>\n",
       "      <td>366.0</td>\n",
       "      <td>1</td>\n",
       "    </tr>\n",
       "    <tr>\n",
       "      <th>1</th>\n",
       "      <td>8998574539</td>\n",
       "      <td>[3, 4, 4, 3, 5]</td>\n",
       "      <td>existing</td>\n",
       "      <td>85.0</td>\n",
       "      <td>0</td>\n",
       "    </tr>\n",
       "    <tr>\n",
       "      <th>2</th>\n",
       "      <td>9346688547</td>\n",
       "      <td>[1, 1, 2, 2, 4, 4, 3, 1, 1, 0, 3]</td>\n",
       "      <td>existing</td>\n",
       "      <td>275.0</td>\n",
       "      <td>0</td>\n",
       "    </tr>\n",
       "    <tr>\n",
       "      <th>3</th>\n",
       "      <td>4533897707</td>\n",
       "      <td>[3, 2, 2, 1, 5, 1, 1, 0]</td>\n",
       "      <td>existing</td>\n",
       "      <td>528.0</td>\n",
       "      <td>0</td>\n",
       "    </tr>\n",
       "    <tr>\n",
       "      <th>4</th>\n",
       "      <td>3334800500</td>\n",
       "      <td>[4, 2, 3, 5, 2, 5, 1]</td>\n",
       "      <td>existing</td>\n",
       "      <td>287.0</td>\n",
       "      <td>0</td>\n",
       "    </tr>\n",
       "  </tbody>\n",
       "</table>\n",
       "</div>"
      ],
      "text/plain": [
       "   transactionId                             basket customerType  totalAmount  \\\n",
       "0     4132523932                 [4, 3, 4, 3, 2, 3]     existing        366.0   \n",
       "1     8998574539                    [3, 4, 4, 3, 5]     existing         85.0   \n",
       "2     9346688547  [1, 1, 2, 2, 4, 4, 3, 1, 1, 0, 3]     existing        275.0   \n",
       "3     4533897707           [3, 2, 2, 1, 5, 1, 1, 0]     existing        528.0   \n",
       "4     3334800500              [4, 2, 3, 5, 2, 5, 1]     existing        287.0   \n",
       "\n",
       "   returnLabel  \n",
       "0            1  \n",
       "1            0  \n",
       "2            0  \n",
       "3            0  \n",
       "4            0  "
      ]
     },
     "execution_count": 17,
     "metadata": {},
     "output_type": "execute_result"
    }
   ],
   "source": [
    "df_test = pd.read_csv('test.csv', sep=';')\n",
    "print(\"Anzahl Zeilen: \" + str(len(df_test)))\n",
    "df_test.head()"
   ]
  },
  {
   "cell_type": "markdown",
   "metadata": {},
   "source": [
    "Null-Werte im Testdatensatz"
   ]
  },
  {
   "cell_type": "code",
   "execution_count": 18,
   "metadata": {},
   "outputs": [
    {
     "data": {
      "text/plain": [
       "transactionId      0\n",
       "basket             0\n",
       "customerType     203\n",
       "totalAmount      175\n",
       "returnLabel        0\n",
       "dtype: int64"
      ]
     },
     "execution_count": 18,
     "metadata": {},
     "output_type": "execute_result"
    }
   ],
   "source": [
    "df_test.isna().sum()"
   ]
  },
  {
   "cell_type": "markdown",
   "metadata": {},
   "source": [
    "Auffüllen der Null-Werte in `totalAmount` und Entfernen des Rests (`customerType`)"
   ]
  },
  {
   "cell_type": "code",
   "execution_count": 19,
   "metadata": {},
   "outputs": [
    {
     "name": "stdout",
     "output_type": "stream",
     "text": [
      "transactionId    0\n",
      "basket           0\n",
      "customerType     0\n",
      "totalAmount      0\n",
      "returnLabel      0\n",
      "dtype: int64\n",
      "Durchschnittlicher Gesamtpreis: 263.1954376657825\n",
      "Anzahl Zeilen: 9397\n"
     ]
    }
   ],
   "source": [
    "avg_amount = df_test['totalAmount'].mean()\n",
    "df_test['totalAmount'] = df_test['totalAmount'].fillna(avg_amount)\n",
    "df_test = df_test.dropna()\n",
    "print(df_test.isna().sum())\n",
    "print(\"Durchschnittlicher Gesamtpreis: \" + str(avg_amount) + \"\\nAnzahl Zeilen: \" + str(len(df_test)))"
   ]
  },
  {
   "cell_type": "markdown",
   "metadata": {},
   "source": [
    "Transformation des Testdatensatzes analog Trainingsdatensatz (One-Hot-Encoding von `customerType` & Basket-Features)"
   ]
  },
  {
   "cell_type": "code",
   "execution_count": 20,
   "metadata": {},
   "outputs": [
    {
     "data": {
      "text/html": [
       "<div>\n",
       "<style scoped>\n",
       "    .dataframe tbody tr th:only-of-type {\n",
       "        vertical-align: middle;\n",
       "    }\n",
       "\n",
       "    .dataframe tbody tr th {\n",
       "        vertical-align: top;\n",
       "    }\n",
       "\n",
       "    .dataframe thead th {\n",
       "        text-align: right;\n",
       "    }\n",
       "</style>\n",
       "<table border=\"1\" class=\"dataframe\">\n",
       "  <thead>\n",
       "    <tr style=\"text-align: right;\">\n",
       "      <th></th>\n",
       "      <th>transactionId</th>\n",
       "      <th>basket</th>\n",
       "      <th>totalAmount</th>\n",
       "      <th>returnLabel</th>\n",
       "      <th>customerType_existing</th>\n",
       "      <th>customerType_new</th>\n",
       "      <th>basket_0</th>\n",
       "      <th>basket_1</th>\n",
       "      <th>basket_2</th>\n",
       "      <th>basket_3</th>\n",
       "      <th>basket_4</th>\n",
       "      <th>basket_5</th>\n",
       "    </tr>\n",
       "  </thead>\n",
       "  <tbody>\n",
       "    <tr>\n",
       "      <th>0</th>\n",
       "      <td>4132523932</td>\n",
       "      <td>[4, 3, 4, 3, 2, 3]</td>\n",
       "      <td>366.0</td>\n",
       "      <td>1</td>\n",
       "      <td>1</td>\n",
       "      <td>0</td>\n",
       "      <td>0</td>\n",
       "      <td>0</td>\n",
       "      <td>1</td>\n",
       "      <td>3</td>\n",
       "      <td>2</td>\n",
       "      <td>0</td>\n",
       "    </tr>\n",
       "    <tr>\n",
       "      <th>1</th>\n",
       "      <td>8998574539</td>\n",
       "      <td>[3, 4, 4, 3, 5]</td>\n",
       "      <td>85.0</td>\n",
       "      <td>0</td>\n",
       "      <td>1</td>\n",
       "      <td>0</td>\n",
       "      <td>0</td>\n",
       "      <td>0</td>\n",
       "      <td>0</td>\n",
       "      <td>2</td>\n",
       "      <td>2</td>\n",
       "      <td>1</td>\n",
       "    </tr>\n",
       "    <tr>\n",
       "      <th>2</th>\n",
       "      <td>9346688547</td>\n",
       "      <td>[1, 1, 2, 2, 4, 4, 3, 1, 1, 0, 3]</td>\n",
       "      <td>275.0</td>\n",
       "      <td>0</td>\n",
       "      <td>1</td>\n",
       "      <td>0</td>\n",
       "      <td>1</td>\n",
       "      <td>4</td>\n",
       "      <td>2</td>\n",
       "      <td>2</td>\n",
       "      <td>2</td>\n",
       "      <td>0</td>\n",
       "    </tr>\n",
       "    <tr>\n",
       "      <th>3</th>\n",
       "      <td>4533897707</td>\n",
       "      <td>[3, 2, 2, 1, 5, 1, 1, 0]</td>\n",
       "      <td>528.0</td>\n",
       "      <td>0</td>\n",
       "      <td>1</td>\n",
       "      <td>0</td>\n",
       "      <td>1</td>\n",
       "      <td>3</td>\n",
       "      <td>2</td>\n",
       "      <td>1</td>\n",
       "      <td>0</td>\n",
       "      <td>1</td>\n",
       "    </tr>\n",
       "    <tr>\n",
       "      <th>4</th>\n",
       "      <td>3334800500</td>\n",
       "      <td>[4, 2, 3, 5, 2, 5, 1]</td>\n",
       "      <td>287.0</td>\n",
       "      <td>0</td>\n",
       "      <td>1</td>\n",
       "      <td>0</td>\n",
       "      <td>0</td>\n",
       "      <td>1</td>\n",
       "      <td>2</td>\n",
       "      <td>1</td>\n",
       "      <td>1</td>\n",
       "      <td>2</td>\n",
       "    </tr>\n",
       "  </tbody>\n",
       "</table>\n",
       "</div>"
      ],
      "text/plain": [
       "   transactionId                             basket  totalAmount  returnLabel  \\\n",
       "0     4132523932                 [4, 3, 4, 3, 2, 3]        366.0            1   \n",
       "1     8998574539                    [3, 4, 4, 3, 5]         85.0            0   \n",
       "2     9346688547  [1, 1, 2, 2, 4, 4, 3, 1, 1, 0, 3]        275.0            0   \n",
       "3     4533897707           [3, 2, 2, 1, 5, 1, 1, 0]        528.0            0   \n",
       "4     3334800500              [4, 2, 3, 5, 2, 5, 1]        287.0            0   \n",
       "\n",
       "   customerType_existing  customerType_new  basket_0  basket_1  basket_2  \\\n",
       "0                      1                 0         0         0         1   \n",
       "1                      1                 0         0         0         0   \n",
       "2                      1                 0         1         4         2   \n",
       "3                      1                 0         1         3         2   \n",
       "4                      1                 0         0         1         2   \n",
       "\n",
       "   basket_3  basket_4  basket_5  \n",
       "0         3         2         0  \n",
       "1         2         2         1  \n",
       "2         2         2         0  \n",
       "3         1         0         1  \n",
       "4         1         1         2  "
      ]
     },
     "execution_count": 20,
     "metadata": {},
     "output_type": "execute_result"
    }
   ],
   "source": [
    "df_test = pd.get_dummies(df_test, columns=['customerType'])\n",
    "\n",
    "df_test['basket_0'] = df_test['basket'].map(lambda x: x.count('0'))\n",
    "df_test['basket_1'] = df_test['basket'].map(lambda x: x.count('1'))\n",
    "df_test['basket_2'] = df_test['basket'].map(lambda x: x.count('2'))\n",
    "df_test['basket_3'] = df_test['basket'].map(lambda x: x.count('3'))\n",
    "df_test['basket_4'] = df_test['basket'].map(lambda x: x.count('4'))\n",
    "df_test['basket_5'] = df_test['basket'].map(lambda x: x.count('5'))\n",
    "df_test.head()"
   ]
  },
  {
   "cell_type": "markdown",
   "metadata": {},
   "source": [
    "Aufteilen des Trainingsdatensatzes in Label und restliche Features"
   ]
  },
  {
   "cell_type": "code",
   "execution_count": 21,
   "metadata": {},
   "outputs": [
    {
     "data": {
      "text/html": [
       "<div>\n",
       "<style scoped>\n",
       "    .dataframe tbody tr th:only-of-type {\n",
       "        vertical-align: middle;\n",
       "    }\n",
       "\n",
       "    .dataframe tbody tr th {\n",
       "        vertical-align: top;\n",
       "    }\n",
       "\n",
       "    .dataframe thead th {\n",
       "        text-align: right;\n",
       "    }\n",
       "</style>\n",
       "<table border=\"1\" class=\"dataframe\">\n",
       "  <thead>\n",
       "    <tr style=\"text-align: right;\">\n",
       "      <th></th>\n",
       "      <th>transactionId</th>\n",
       "      <th>totalAmount</th>\n",
       "      <th>customerType_existing</th>\n",
       "      <th>customerType_new</th>\n",
       "      <th>basket_0</th>\n",
       "      <th>basket_1</th>\n",
       "      <th>basket_2</th>\n",
       "      <th>basket_3</th>\n",
       "      <th>basket_4</th>\n",
       "      <th>basket_5</th>\n",
       "    </tr>\n",
       "  </thead>\n",
       "  <tbody>\n",
       "    <tr>\n",
       "      <th>0</th>\n",
       "      <td>4132523932</td>\n",
       "      <td>366.0</td>\n",
       "      <td>1</td>\n",
       "      <td>0</td>\n",
       "      <td>0</td>\n",
       "      <td>0</td>\n",
       "      <td>1</td>\n",
       "      <td>3</td>\n",
       "      <td>2</td>\n",
       "      <td>0</td>\n",
       "    </tr>\n",
       "    <tr>\n",
       "      <th>1</th>\n",
       "      <td>8998574539</td>\n",
       "      <td>85.0</td>\n",
       "      <td>1</td>\n",
       "      <td>0</td>\n",
       "      <td>0</td>\n",
       "      <td>0</td>\n",
       "      <td>0</td>\n",
       "      <td>2</td>\n",
       "      <td>2</td>\n",
       "      <td>1</td>\n",
       "    </tr>\n",
       "    <tr>\n",
       "      <th>2</th>\n",
       "      <td>9346688547</td>\n",
       "      <td>275.0</td>\n",
       "      <td>1</td>\n",
       "      <td>0</td>\n",
       "      <td>1</td>\n",
       "      <td>4</td>\n",
       "      <td>2</td>\n",
       "      <td>2</td>\n",
       "      <td>2</td>\n",
       "      <td>0</td>\n",
       "    </tr>\n",
       "    <tr>\n",
       "      <th>3</th>\n",
       "      <td>4533897707</td>\n",
       "      <td>528.0</td>\n",
       "      <td>1</td>\n",
       "      <td>0</td>\n",
       "      <td>1</td>\n",
       "      <td>3</td>\n",
       "      <td>2</td>\n",
       "      <td>1</td>\n",
       "      <td>0</td>\n",
       "      <td>1</td>\n",
       "    </tr>\n",
       "    <tr>\n",
       "      <th>4</th>\n",
       "      <td>3334800500</td>\n",
       "      <td>287.0</td>\n",
       "      <td>1</td>\n",
       "      <td>0</td>\n",
       "      <td>0</td>\n",
       "      <td>1</td>\n",
       "      <td>2</td>\n",
       "      <td>1</td>\n",
       "      <td>1</td>\n",
       "      <td>2</td>\n",
       "    </tr>\n",
       "  </tbody>\n",
       "</table>\n",
       "</div>"
      ],
      "text/plain": [
       "   transactionId  totalAmount  customerType_existing  customerType_new  \\\n",
       "0     4132523932        366.0                      1                 0   \n",
       "1     8998574539         85.0                      1                 0   \n",
       "2     9346688547        275.0                      1                 0   \n",
       "3     4533897707        528.0                      1                 0   \n",
       "4     3334800500        287.0                      1                 0   \n",
       "\n",
       "   basket_0  basket_1  basket_2  basket_3  basket_4  basket_5  \n",
       "0         0         0         1         3         2         0  \n",
       "1         0         0         0         2         2         1  \n",
       "2         1         4         2         2         2         0  \n",
       "3         1         3         2         1         0         1  \n",
       "4         0         1         2         1         1         2  "
      ]
     },
     "execution_count": 21,
     "metadata": {},
     "output_type": "execute_result"
    }
   ],
   "source": [
    "df_test_label = df_test['returnLabel']\n",
    "df_test = df_test.drop(columns=['basket', 'returnLabel'])\n",
    "df_test.head()"
   ]
  },
  {
   "cell_type": "markdown",
   "metadata": {},
   "source": [
    "Skalieren des Testdatensatzes"
   ]
  },
  {
   "cell_type": "code",
   "execution_count": 22,
   "metadata": {},
   "outputs": [
    {
     "data": {
      "text/html": [
       "<div>\n",
       "<style scoped>\n",
       "    .dataframe tbody tr th:only-of-type {\n",
       "        vertical-align: middle;\n",
       "    }\n",
       "\n",
       "    .dataframe tbody tr th {\n",
       "        vertical-align: top;\n",
       "    }\n",
       "\n",
       "    .dataframe thead th {\n",
       "        text-align: right;\n",
       "    }\n",
       "</style>\n",
       "<table border=\"1\" class=\"dataframe\">\n",
       "  <thead>\n",
       "    <tr style=\"text-align: right;\">\n",
       "      <th></th>\n",
       "      <th>transactionId</th>\n",
       "      <th>totalAmount</th>\n",
       "      <th>customerType_existing</th>\n",
       "      <th>customerType_new</th>\n",
       "      <th>basket_0</th>\n",
       "      <th>basket_1</th>\n",
       "      <th>basket_2</th>\n",
       "      <th>basket_3</th>\n",
       "      <th>basket_4</th>\n",
       "      <th>basket_5</th>\n",
       "    </tr>\n",
       "  </thead>\n",
       "  <tbody>\n",
       "    <tr>\n",
       "      <th>0</th>\n",
       "      <td>-0.525367</td>\n",
       "      <td>0.495945</td>\n",
       "      <td>0.650723</td>\n",
       "      <td>-0.650723</td>\n",
       "      <td>-0.771646</td>\n",
       "      <td>-0.765848</td>\n",
       "      <td>0.368185</td>\n",
       "      <td>1.981962</td>\n",
       "      <td>0.632575</td>\n",
       "      <td>-0.644999</td>\n",
       "    </tr>\n",
       "    <tr>\n",
       "      <th>1</th>\n",
       "      <td>1.351158</td>\n",
       "      <td>-0.809402</td>\n",
       "      <td>0.650723</td>\n",
       "      <td>-0.650723</td>\n",
       "      <td>-0.771646</td>\n",
       "      <td>-0.765848</td>\n",
       "      <td>-0.775648</td>\n",
       "      <td>1.027745</td>\n",
       "      <td>0.632575</td>\n",
       "      <td>0.525101</td>\n",
       "    </tr>\n",
       "    <tr>\n",
       "      <th>2</th>\n",
       "      <td>1.485403</td>\n",
       "      <td>0.073217</td>\n",
       "      <td>0.650723</td>\n",
       "      <td>-0.650723</td>\n",
       "      <td>0.385401</td>\n",
       "      <td>3.869989</td>\n",
       "      <td>1.512019</td>\n",
       "      <td>1.027745</td>\n",
       "      <td>0.632575</td>\n",
       "      <td>-0.644999</td>\n",
       "    </tr>\n",
       "    <tr>\n",
       "      <th>3</th>\n",
       "      <td>-0.370583</td>\n",
       "      <td>1.248494</td>\n",
       "      <td>0.650723</td>\n",
       "      <td>-0.650723</td>\n",
       "      <td>0.385401</td>\n",
       "      <td>2.711030</td>\n",
       "      <td>1.512019</td>\n",
       "      <td>0.073528</td>\n",
       "      <td>-0.879928</td>\n",
       "      <td>0.525101</td>\n",
       "    </tr>\n",
       "    <tr>\n",
       "      <th>4</th>\n",
       "      <td>-0.832998</td>\n",
       "      <td>0.128961</td>\n",
       "      <td>0.650723</td>\n",
       "      <td>-0.650723</td>\n",
       "      <td>-0.771646</td>\n",
       "      <td>0.393111</td>\n",
       "      <td>1.512019</td>\n",
       "      <td>0.073528</td>\n",
       "      <td>-0.123677</td>\n",
       "      <td>1.695202</td>\n",
       "    </tr>\n",
       "  </tbody>\n",
       "</table>\n",
       "</div>"
      ],
      "text/plain": [
       "   transactionId  totalAmount  customerType_existing  customerType_new  \\\n",
       "0      -0.525367     0.495945               0.650723         -0.650723   \n",
       "1       1.351158    -0.809402               0.650723         -0.650723   \n",
       "2       1.485403     0.073217               0.650723         -0.650723   \n",
       "3      -0.370583     1.248494               0.650723         -0.650723   \n",
       "4      -0.832998     0.128961               0.650723         -0.650723   \n",
       "\n",
       "   basket_0  basket_1  basket_2  basket_3  basket_4  basket_5  \n",
       "0 -0.771646 -0.765848  0.368185  1.981962  0.632575 -0.644999  \n",
       "1 -0.771646 -0.765848 -0.775648  1.027745  0.632575  0.525101  \n",
       "2  0.385401  3.869989  1.512019  1.027745  0.632575 -0.644999  \n",
       "3  0.385401  2.711030  1.512019  0.073528 -0.879928  0.525101  \n",
       "4 -0.771646  0.393111  1.512019  0.073528 -0.123677  1.695202  "
      ]
     },
     "execution_count": 22,
     "metadata": {},
     "output_type": "execute_result"
    }
   ],
   "source": [
    "scaled_values_test = scaler.transform(df_test)\n",
    "df_test_scaled = pd.DataFrame(scaled_values_test, index=df_test.index, columns=df_test.columns)\n",
    "df_test_scaled.head()"
   ]
  },
  {
   "cell_type": "markdown",
   "metadata": {},
   "source": [
    "# Trainieren der Modelle"
   ]
  },
  {
   "cell_type": "markdown",
   "metadata": {},
   "source": [
    "## Modell 1: Logistische Regression"
   ]
  },
  {
   "cell_type": "code",
   "execution_count": 23,
   "metadata": {},
   "outputs": [
    {
     "name": "stdout",
     "output_type": "stream",
     "text": [
      "Bestes C: 30 \n",
      "Beste Penalty: L2\n"
     ]
    }
   ],
   "source": [
    "from sklearn.linear_model import LogisticRegressionCV\n",
    "from sklearn.metrics import accuracy_score, recall_score, precision_score\n",
    "from matplotlib import pyplot\n",
    "\n",
    "C = [0.1, 1, 4, 5, 6, 10, 30, 100]\n",
    "\n",
    "model = LogisticRegressionCV(Cs=C, penalty='elasticnet', l1_ratios=[0,1], solver='saga', max_iter=400, random_state=0)\n",
    "model.fit(df_scaled, df_label)\n",
    "print('Bestes C:', int(model.C_[0]),\n",
    "\"\\nBeste Penalty:\", 'L1' if model.l1_ratio_[0] == 1 else 'L2')"
   ]
  },
  {
   "cell_type": "markdown",
   "metadata": {},
   "source": [
    "Pyplot über die **Feature Importance** der Logistischen Regression"
   ]
  },
  {
   "cell_type": "code",
   "execution_count": 24,
   "metadata": {},
   "outputs": [
    {
     "name": "stdout",
     "output_type": "stream",
     "text": [
      "transactionId Score: 0.011615692269670186\n",
      "totalAmount Score: 0.9128062348075161\n",
      "customerType_existing Score: -0.38509971467922044\n",
      "customerType_new Score: 0.38509971467922044\n",
      "basket_0 Score: -0.7567447614586439\n",
      "basket_1 Score: -0.7513916497763605\n",
      "basket_2 Score: -0.770538653631014\n",
      "basket_3 Score: 0.21937287934895153\n",
      "basket_4 Score: 1.007969373419227\n",
      "basket_5 Score: -8.673318399638406\n"
     ]
    },
    {
     "data": {
      "image/png": "[encoded data removed]",
      "text/plain": [
       "<Figure size 432x288 with 1 Axes>"
      ]
     },
     "metadata": {
      "needs_background": "light"
     },
     "output_type": "display_data"
    }
   ],
   "source": [
    "importance = model.coef_[0]\n",
    "for i,j in enumerate(importance):\n",
    "    print(f'{df.columns[i]} Score: {j}')\n",
    "\n",
    "pyplot.bar([x for x in range(len(importance))], importance)\n",
    "pyplot.title('Feature Importance')\n",
    "pyplot.grid(True)\n",
    "pyplot.show()"
   ]
  },
  {
   "cell_type": "markdown",
   "metadata": {},
   "source": [
    "Vorhersagen der logistischen Regression"
   ]
  },
  {
   "cell_type": "code",
   "execution_count": 25,
   "metadata": {},
   "outputs": [
    {
     "name": "stdout",
     "output_type": "stream",
     "text": [
      "Länge der Testdaten: 9397 (Features) | 9397 (Label)\n"
     ]
    }
   ],
   "source": [
    "print(\"Länge der Testdaten:\", len(df_test_scaled), \"(Features) |\", len(df_test_label), \"(Label)\")"
   ]
  },
  {
   "cell_type": "code",
   "execution_count": 26,
   "metadata": {},
   "outputs": [
    {
     "name": "stdout",
     "output_type": "stream",
     "text": [
      "Accuracy: 0.873257422581675 \n",
      "Precision: 0.8176100628930818 \n",
      "Recall: 0.7410046312789454\n"
     ]
    }
   ],
   "source": [
    "predictions = model.predict(df_test_scaled)\n",
    "stats_lr = {}\n",
    "stats_lr['acc'] = accuracy_score(df_test_label, predictions)\n",
    "stats_lr['prec'] = precision_score(df_test_label, predictions)\n",
    "stats_lr['rec'] = recall_score(df_test_label, predictions)\n",
    "\n",
    "print(\"Accuracy:\", stats_lr['acc'],\n",
    "\"\\nPrecision:\", stats_lr['prec'],\n",
    "\"\\nRecall:\", stats_lr['rec'])"
   ]
  },
  {
   "cell_type": "markdown",
   "metadata": {},
   "source": [
    "Falsch klassifizierte Datenpunkte"
   ]
  },
  {
   "cell_type": "code",
   "execution_count": 27,
   "metadata": {},
   "outputs": [
    {
     "data": {
      "text/plain": [
       "1191"
      ]
     },
     "execution_count": 27,
     "metadata": {},
     "output_type": "execute_result"
    }
   ],
   "source": [
    "wrong_indices = {'lr': [], 'rf': [], 'gbt': []}\n",
    "for i in range(len(df_test_label)):\n",
    "    if df_test_label.iloc[i] != predictions[i]:\n",
    "        wrong_indices['lr'].append(i)\n",
    "len(wrong_indices['lr'])"
   ]
  },
  {
   "cell_type": "markdown",
   "metadata": {},
   "source": [
    "Accuracy auf den Trainingsdaten"
   ]
  },
  {
   "cell_type": "code",
   "execution_count": 28,
   "metadata": {},
   "outputs": [
    {
     "name": "stdout",
     "output_type": "stream",
     "text": [
      "Accuracy: 0.8795427634575098\n"
     ]
    }
   ],
   "source": [
    "predictions = model.predict(df_scaled)\n",
    "stats_lr['acc_train'] = accuracy_score(df_label, predictions)\n",
    "print(\"Accuracy:\", stats_lr['acc_train'])"
   ]
  },
  {
   "cell_type": "markdown",
   "metadata": {},
   "source": [
    "# 2. Modell: Random Forest"
   ]
  },
  {
   "cell_type": "code",
   "execution_count": 29,
   "metadata": {},
   "outputs": [
    {
     "data": {
      "text/plain": [
       "GridSearchCV(estimator=RandomForestClassifier(random_state=0), n_jobs=-1,\n",
       "             param_grid={'max_depth': [2, 4, 6],\n",
       "                         'n_estimators': [60, 80, 100, 120, 140]})"
      ]
     },
     "execution_count": 29,
     "metadata": {},
     "output_type": "execute_result"
    }
   ],
   "source": [
    "from sklearn.ensemble import RandomForestClassifier\n",
    "from sklearn.model_selection import GridSearchCV\n",
    "\n",
    "candidates = {'n_estimators': [60, 80, 100, 120, 140], 'max_depth': [2, 4, 6]}\n",
    "model = GridSearchCV(estimator=RandomForestClassifier(random_state=0), param_grid=candidates, n_jobs=-1)\n",
    "model.fit(df_scaled, df_label)"
   ]
  },
  {
   "cell_type": "markdown",
   "metadata": {},
   "source": [
    "Beste Hyperparameter"
   ]
  },
  {
   "cell_type": "code",
   "execution_count": 30,
   "metadata": {},
   "outputs": [
    {
     "name": "stdout",
     "output_type": "stream",
     "text": [
      "Bester Wert für n_estimators: 60 \n",
      "Bester Wert für max_depth: 6 \n",
      "Bester Score: 0.8696146364956636\n"
     ]
    }
   ],
   "source": [
    "print(\"Bester Wert für n_estimators:\", model.best_estimator_.n_estimators,\n",
    "\"\\nBester Wert für max_depth:\", model.best_estimator_.max_depth,\n",
    "\"\\nBester Score:\", model.best_score_)"
   ]
  },
  {
   "cell_type": "markdown",
   "metadata": {},
   "source": [
    "Vorhersagen mit dem Random Forest"
   ]
  },
  {
   "cell_type": "code",
   "execution_count": 31,
   "metadata": {},
   "outputs": [
    {
     "name": "stdout",
     "output_type": "stream",
     "text": [
      "Accuracy: 0.8609130573587315 \n",
      "Precision: 0.7927400468384075 \n",
      "Recall: 0.7235482721767011\n"
     ]
    }
   ],
   "source": [
    "predictions = model.predict(df_test_scaled)\n",
    "stats_rf = {}\n",
    "stats_rf['acc'] = accuracy_score(df_test_label, predictions)\n",
    "stats_rf['prec'] = precision_score(df_test_label, predictions)\n",
    "stats_rf['rec'] = recall_score(df_test_label, predictions)\n",
    "print(\"Accuracy:\", stats_rf['acc'],\n",
    "\"\\nPrecision:\", stats_rf['prec'],\n",
    "\"\\nRecall:\", stats_rf['rec'])"
   ]
  },
  {
   "cell_type": "markdown",
   "metadata": {},
   "source": [
    "Falsch klassifizierte Datenpunkte"
   ]
  },
  {
   "cell_type": "code",
   "execution_count": 32,
   "metadata": {},
   "outputs": [
    {
     "data": {
      "text/plain": [
       "1307"
      ]
     },
     "execution_count": 32,
     "metadata": {},
     "output_type": "execute_result"
    }
   ],
   "source": [
    "for i in range(len(df_test_label)):\n",
    "    if df_test_label.iloc[i] != predictions[i]:\n",
    "        wrong_indices['rf'].append(i)\n",
    "len(wrong_indices['rf'])"
   ]
  },
  {
   "cell_type": "markdown",
   "metadata": {},
   "source": [
    "Accuracy auf den Trainingsdaten"
   ]
  },
  {
   "cell_type": "code",
   "execution_count": 33,
   "metadata": {},
   "outputs": [
    {
     "name": "stdout",
     "output_type": "stream",
     "text": [
      "\n",
      "Accuracy auf den Trainingsdaten: 0.8729392476546134\n"
     ]
    }
   ],
   "source": [
    "predictions = model.predict(df_scaled)\n",
    "stats_rf['acc_train'] = accuracy_score(df_label, predictions)\n",
    "print(\"\\nAccuracy auf den Trainingsdaten:\", stats_rf['acc_train'])"
   ]
  },
  {
   "cell_type": "markdown",
   "metadata": {},
   "source": [
    "# 3. Gradient Boosting Tree"
   ]
  },
  {
   "cell_type": "code",
   "execution_count": 34,
   "metadata": {},
   "outputs": [
    {
     "data": {
      "text/plain": [
       "GridSearchCV(estimator=GradientBoostingClassifier(max_depth=2, random_state=0),\n",
       "             n_jobs=-1,\n",
       "             param_grid={'max_depth': [2, 4, 6],\n",
       "                         'n_estimators': [60, 80, 100, 120, 140]})"
      ]
     },
     "execution_count": 34,
     "metadata": {},
     "output_type": "execute_result"
    }
   ],
   "source": [
    "from sklearn.ensemble import GradientBoostingClassifier\n",
    "model = GridSearchCV(estimator=GradientBoostingClassifier(max_depth=2,random_state=0), n_jobs=-1, param_grid=candidates)\n",
    "model.fit(df_scaled, df_label)"
   ]
  },
  {
   "cell_type": "markdown",
   "metadata": {},
   "source": [
    "Beste Hyperparameter"
   ]
  },
  {
   "cell_type": "code",
   "execution_count": 35,
   "metadata": {},
   "outputs": [
    {
     "name": "stdout",
     "output_type": "stream",
     "text": [
      "Bester Wert für n_estimators: 140 \n",
      "Bester Wert für max_depth: 2 \n",
      "Bester Score: 0.8793150959965719\n"
     ]
    }
   ],
   "source": [
    "print(\"Bester Wert für n_estimators:\", model.best_estimator_.n_estimators,\n",
    "\"\\nBester Wert für max_depth:\", model.best_estimator_.max_depth,\n",
    "\"\\nBester Score:\", model.best_score_)"
   ]
  },
  {
   "cell_type": "markdown",
   "metadata": {},
   "source": [
    "Vorhersagen mit dem Gradient Boosting Tree"
   ]
  },
  {
   "cell_type": "code",
   "execution_count": 36,
   "metadata": {},
   "outputs": [
    {
     "name": "stdout",
     "output_type": "stream",
     "text": [
      "Accuracy: 0.8727253378737895 \n",
      "Precision: 0.8075601374570447 \n",
      "Recall: 0.75347345920912\n"
     ]
    }
   ],
   "source": [
    "predictions = model.predict(df_test_scaled)\n",
    "stats_gbt = {}\n",
    "stats_gbt['acc'] = accuracy_score(df_test_label, predictions)\n",
    "stats_gbt['prec'] = precision_score(df_test_label, predictions)\n",
    "stats_gbt['rec'] = recall_score(df_test_label, predictions)\n",
    "print(\"Accuracy:\", stats_gbt['acc'],\n",
    "\"\\nPrecision:\", stats_gbt['prec'],\n",
    "\"\\nRecall:\", stats_gbt['rec'])"
   ]
  },
  {
   "cell_type": "markdown",
   "metadata": {},
   "source": [
    "Falsch klassifizierte Datenpunkte"
   ]
  },
  {
   "cell_type": "code",
   "execution_count": 37,
   "metadata": {},
   "outputs": [
    {
     "data": {
      "text/plain": [
       "1196"
      ]
     },
     "execution_count": 37,
     "metadata": {},
     "output_type": "execute_result"
    }
   ],
   "source": [
    "for i in range(len(df_test_label)):\n",
    "    if df_test_label.iloc[i] != predictions[i]:\n",
    "        wrong_indices['gbt'].append(i)\n",
    "len(wrong_indices['gbt'])"
   ]
  },
  {
   "cell_type": "markdown",
   "metadata": {},
   "source": [
    "Accuracy auf den Trainingsdaten"
   ]
  },
  {
   "cell_type": "code",
   "execution_count": 38,
   "metadata": {},
   "outputs": [
    {
     "name": "stdout",
     "output_type": "stream",
     "text": [
      "\n",
      "Accuracy auf den Trainingsdaten: 0.8819564623371892\n"
     ]
    }
   ],
   "source": [
    "predictions = model.predict(df_scaled)\n",
    "stats_gbt['acc_train'] = accuracy_score(df_label, predictions)\n",
    "print(\"\\nAccuracy auf den Trainingsdaten:\", stats_gbt['acc_train'])"
   ]
  },
  {
   "cell_type": "markdown",
   "metadata": {},
   "source": [
    "Zusammenführen der Statistiken"
   ]
  },
  {
   "cell_type": "code",
   "execution_count": 39,
   "metadata": {},
   "outputs": [],
   "source": [
    "stats = {'lr': stats_lr, 'rf': stats_rf, 'gbt': stats_gbt}"
   ]
  },
  {
   "cell_type": "markdown",
   "metadata": {},
   "source": [
    "## Vergleich Accuracy auf Testdaten und auf Trainingsdaten"
   ]
  },
  {
   "cell_type": "markdown",
   "metadata": {},
   "source": [
    "Logistische Regression"
   ]
  },
  {
   "cell_type": "code",
   "execution_count": 40,
   "metadata": {},
   "outputs": [
    {
     "name": "stdout",
     "output_type": "stream",
     "text": [
      "Accuracy auf den Trainingsdaten: 0.8795427634575098 \n",
      "Accuracy auf den Testdaten: 0.873257422581675\n"
     ]
    },
    {
     "data": {
      "image/png": "[encoded data removed]",
      "text/plain": [
       "<Figure size 432x288 with 1 Axes>"
      ]
     },
     "metadata": {
      "needs_background": "light"
     },
     "output_type": "display_data"
    }
   ],
   "source": [
    "print('Accuracy auf den Trainingsdaten:', stats['lr']['acc_train'],\n",
    "'\\nAccuracy auf den Testdaten:', stats['lr']['acc'])\n",
    "pyplot.bar([0,1], [stats['lr']['acc_train'], stats['lr']['acc']])\n",
    "pyplot.grid(True)\n",
    "pyplot.ylim(0.7, 1.0)\n",
    "pyplot.xticks([0,1], ['Training', 'Test'])\n",
    "pyplot.show()"
   ]
  },
  {
   "cell_type": "markdown",
   "metadata": {},
   "source": [
    "Random Forest"
   ]
  },
  {
   "cell_type": "code",
   "execution_count": 41,
   "metadata": {},
   "outputs": [
    {
     "name": "stdout",
     "output_type": "stream",
     "text": [
      "Accuracy auf den Trainingsdaten: 0.8729392476546134 \n",
      "Accuracy auf den Testdaten: 0.8609130573587315\n"
     ]
    },
    {
     "data": {
      "image/png": "[encoded data removed]",
      "text/plain": [
       "<Figure size 432x288 with 1 Axes>"
      ]
     },
     "metadata": {
      "needs_background": "light"
     },
     "output_type": "display_data"
    }
   ],
   "source": [
    "print('Accuracy auf den Trainingsdaten:', stats['rf']['acc_train'],\n",
    "'\\nAccuracy auf den Testdaten:', stats['rf']['acc'])\n",
    "pyplot.bar([0,1], [stats['rf']['acc_train'], stats['rf']['acc']])\n",
    "pyplot.grid(True)\n",
    "pyplot.ylim(0.7, 1.0)\n",
    "pyplot.xticks([0,1], ['Training', 'Test'])\n",
    "pyplot.show()"
   ]
  },
  {
   "cell_type": "markdown",
   "metadata": {},
   "source": [
    "Gradient Boosting Tree"
   ]
  },
  {
   "cell_type": "code",
   "execution_count": 42,
   "metadata": {},
   "outputs": [
    {
     "name": "stdout",
     "output_type": "stream",
     "text": [
      "Accuracy auf den Trainingsdaten: 0.8819564623371892 \n",
      "Accuracy auf den Testdaten: 0.8727253378737895\n"
     ]
    },
    {
     "data": {
      "image/png": "[encoded data removed]",
      "text/plain": [
       "<Figure size 432x288 with 1 Axes>"
      ]
     },
     "metadata": {
      "needs_background": "light"
     },
     "output_type": "display_data"
    }
   ],
   "source": [
    "print('Accuracy auf den Trainingsdaten:', stats['gbt']['acc_train'],\n",
    "'\\nAccuracy auf den Testdaten:', stats['gbt']['acc'])\n",
    "pyplot.bar([0,1], [stats['gbt']['acc_train'], stats['gbt']['acc']])\n",
    "pyplot.grid(True)\n",
    "pyplot.ylim(0.7, 1.0)\n",
    "pyplot.xticks([0,1], ['Training', 'Test'])\n",
    "pyplot.show()"
   ]
  },
  {
   "cell_type": "markdown",
   "metadata": {},
   "source": [
    "**Man kann sehen, dass bei keinem der Modelle ein besonders ausgeprägtes Over- oder Underfitting vorliegt. Bei allen Modellen ist aber die Accuracy bei den Trainingsdaten leicht höher als bei den Testdaten.**"
   ]
  },
  {
   "cell_type": "markdown",
   "metadata": {},
   "source": [
    "Von den einzelnen Modellen falsch klassifizierte Datenpunkte"
   ]
  },
  {
   "cell_type": "code",
   "execution_count": 43,
   "metadata": {},
   "outputs": [],
   "source": [
    "wrong_guesses = {'lr': set(wrong_indices['lr']), 'rf': set(wrong_indices['rf']), 'gbt': set(wrong_indices['gbt'])}\n",
    "common_set = wrong_guesses['lr'] & wrong_guesses['rf'] & wrong_guesses['gbt']"
   ]
  },
  {
   "cell_type": "markdown",
   "metadata": {},
   "source": [
    "# Statistiken"
   ]
  },
  {
   "cell_type": "markdown",
   "metadata": {},
   "source": [
    "Accuracy, Precision und Recall"
   ]
  },
  {
   "cell_type": "code",
   "execution_count": 44,
   "metadata": {},
   "outputs": [
    {
     "name": "stdout",
     "output_type": "stream",
     "text": [
      "Logistische Regression:\n",
      "Accuracy: \t\t\t0.873257422581675\n",
      "Precision: \t\t\t0.8176100628930818\n",
      "Recall: \t\t\t0.7410046312789454\n",
      "Accuracy auf Trainingsdaten: \t0.8795427634575098\n",
      "\n",
      "Random Forest:\n",
      "Accuracy: \t\t\t0.8609130573587315\n",
      "Precision: \t\t\t0.7927400468384075\n",
      "Recall: \t\t\t0.7235482721767011\n",
      "Accuracy auf Trainingsdaten: \t0.8729392476546134\n",
      "\n",
      "Gradient Boosting Tree:\n",
      "Accuracy: \t\t\t0.8727253378737895\n",
      "Precision: \t\t\t0.8075601374570447\n",
      "Recall: \t\t\t0.75347345920912\n",
      "Accuracy auf Trainingsdaten: \t0.8819564623371892\n"
     ]
    }
   ],
   "source": [
    "print(\"Logistische Regression:\",\n",
    "'Accuracy: \\t\\t\\t' + str(stats['lr']['acc']),\n",
    "'Precision: \\t\\t\\t' + str(stats['lr']['prec']),\n",
    "'Recall: \\t\\t\\t' + str(stats['lr']['rec']),\n",
    "'Accuracy auf Trainingsdaten: \\t' + str(stats['lr']['acc_train']),\n",
    "\"\", \"Random Forest:\",\n",
    "'Accuracy: \\t\\t\\t' + str(stats['rf']['acc']),\n",
    "'Precision: \\t\\t\\t' + str(stats['rf']['prec']),\n",
    "'Recall: \\t\\t\\t' + str(stats['rf']['rec']),\n",
    "'Accuracy auf Trainingsdaten: \\t' + str(stats['rf']['acc_train']),\n",
    "\"\", \"Gradient Boosting Tree:\",\n",
    "'Accuracy: \\t\\t\\t' + str(stats['gbt']['acc']),\n",
    "'Precision: \\t\\t\\t' + str(stats['gbt']['prec']),\n",
    "'Recall: \\t\\t\\t' + str(stats['gbt']['rec']),\n",
    "'Accuracy auf Trainingsdaten: \\t' + str(stats['gbt']['acc_train']),\n",
    "sep='\\n'\n",
    ")"
   ]
  },
  {
   "cell_type": "markdown",
   "metadata": {},
   "source": [
    "Falsch erkannte Datenpunkte"
   ]
  },
  {
   "cell_type": "code",
   "execution_count": 45,
   "metadata": {},
   "outputs": [
    {
     "name": "stdout",
     "output_type": "stream",
     "text": [
      "Logistische Regression: 1191\n",
      "Random Forest: \t\t1307\n",
      "Gradient Boosting Tree: 1196\n",
      "\n",
      "Von allen Modellen falsch erkannte Datenpunkte: 933\n"
     ]
    }
   ],
   "source": [
    "print(\n",
    "\"Logistische Regression: \" + str(len(wrong_guesses['lr'])),\n",
    "\"Random Forest: \\t\\t\" + str(len(wrong_guesses['rf'])),\n",
    "\"Gradient Boosting Tree: \" + str(len(wrong_guesses['gbt'])),\n",
    "\"\", \"Von allen Modellen falsch erkannte Datenpunkte: \" + str(len(common_set)),\n",
    "sep='\\n'\n",
    ")"
   ]
  }
 ],
 "metadata": {
  "interpreter": {
   "hash": "ae13b8eca17deec1696758ee0e3e003a27846899ad876fefced1fca2b8e7b028"
  },
  "kernelspec": {
   "display_name": "Python 3 (ipykernel)",
   "language": "python",
   "name": "python3"
  },
  "language_info": {
   "codemirror_mode": {
    "name": "ipython",
    "version": 3
   },
   "file_extension": ".py",
   "mimetype": "text/x-python",
   "name": "python",
   "nbconvert_exporter": "python",
   "pygments_lexer": "ipython3",
   "version": "3.8.13"
  }
 },
 "nbformat": 4,
 "nbformat_minor": 2
}
