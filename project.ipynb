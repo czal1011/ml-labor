{
 "cells": [
  {
   "cell_type": "markdown",
   "metadata": {},
   "source": [
    "# **Projekt Maschinelles Lernen**"
   ]
  },
  {
   "cell_type": "markdown",
   "metadata": {},
   "source": [
    "Autoren:"
   ]
  },
  {
   "cell_type": "markdown",
   "metadata": {},
   "source": [
    "## Trainingsdaten laden"
   ]
  },
  {
   "cell_type": "code",
   "execution_count": 1,
   "metadata": {},
   "outputs": [
    {
     "name": "stdout",
     "output_type": "stream",
     "text": [
      "Pandas Version: 1.4.1 \n",
      "Sklearn Version: 1.0.2\n"
     ]
    }
   ],
   "source": [
    "import pandas as pd\n",
    "import sklearn\n",
    "print(\"Pandas Version:\", pd.__version__, \"\\nSklearn Version:\", sklearn.__version__)\n",
    "\n",
    "pd.options.mode.chained_assignment = None # Einige False-Positive-Warnungen werden unterdrückt"
   ]
  },
  {
   "cell_type": "code",
   "execution_count": 2,
   "metadata": {},
   "outputs": [
    {
     "data": {
      "text/html": [
       "<div>\n",
       "<style scoped>\n",
       "    .dataframe tbody tr th:only-of-type {\n",
       "        vertical-align: middle;\n",
       "    }\n",
       "\n",
       "    .dataframe tbody tr th {\n",
       "        vertical-align: top;\n",
       "    }\n",
       "\n",
       "    .dataframe thead th {\n",
       "        text-align: right;\n",
       "    }\n",
       "</style>\n",
       "<table border=\"1\" class=\"dataframe\">\n",
       "  <thead>\n",
       "    <tr style=\"text-align: right;\">\n",
       "      <th></th>\n",
       "      <th>transactionId</th>\n",
       "      <th>basket</th>\n",
       "      <th>customerType</th>\n",
       "      <th>totalAmount</th>\n",
       "      <th>returnLabel</th>\n",
       "    </tr>\n",
       "  </thead>\n",
       "  <tbody>\n",
       "    <tr>\n",
       "      <th>0</th>\n",
       "      <td>9534310106</td>\n",
       "      <td>[4, 3, 4]</td>\n",
       "      <td>new</td>\n",
       "      <td>252.0</td>\n",
       "      <td>1</td>\n",
       "    </tr>\n",
       "    <tr>\n",
       "      <th>1</th>\n",
       "      <td>7202594767</td>\n",
       "      <td>[4, 2, 0, 2, 5]</td>\n",
       "      <td>existing</td>\n",
       "      <td>70.0</td>\n",
       "      <td>0</td>\n",
       "    </tr>\n",
       "    <tr>\n",
       "      <th>2</th>\n",
       "      <td>2737331698</td>\n",
       "      <td>[5]</td>\n",
       "      <td>existing</td>\n",
       "      <td>84.0</td>\n",
       "      <td>0</td>\n",
       "    </tr>\n",
       "    <tr>\n",
       "      <th>3</th>\n",
       "      <td>4868011733</td>\n",
       "      <td>[1, 4, 2, 4]</td>\n",
       "      <td>existing</td>\n",
       "      <td>116.0</td>\n",
       "      <td>0</td>\n",
       "    </tr>\n",
       "    <tr>\n",
       "      <th>4</th>\n",
       "      <td>7622406570</td>\n",
       "      <td>[2, 5, 3, 2, 3, 2, 0]</td>\n",
       "      <td>existing</td>\n",
       "      <td>378.0</td>\n",
       "      <td>0</td>\n",
       "    </tr>\n",
       "  </tbody>\n",
       "</table>\n",
       "</div>"
      ],
      "text/plain": [
       "   transactionId                 basket customerType  totalAmount  returnLabel\n",
       "0     9534310106              [4, 3, 4]          new        252.0            1\n",
       "1     7202594767        [4, 2, 0, 2, 5]     existing         70.0            0\n",
       "2     2737331698                    [5]     existing         84.0            0\n",
       "3     4868011733           [1, 4, 2, 4]     existing        116.0            0\n",
       "4     7622406570  [2, 5, 3, 2, 3, 2, 0]     existing        378.0            0"
      ]
     },
     "execution_count": 2,
     "metadata": {},
     "output_type": "execute_result"
    }
   ],
   "source": [
    "df = pd.read_csv('train.csv', sep=';')  # Trennzeichen (;) muss angegeben werden durch den Parameter sep\n",
    "df.head()"
   ]
  },
  {
   "cell_type": "code",
   "execution_count": 3,
   "metadata": {},
   "outputs": [
    {
     "name": "stdout",
     "output_type": "stream",
     "text": [
      "Anzahl Zeilen: 22400\n"
     ]
    }
   ],
   "source": [
    "print(\"Anzahl Zeilen: \" + str(len(df)))"
   ]
  },
  {
   "cell_type": "markdown",
   "metadata": {},
   "source": [
    "## Exploratory Data Analysis"
   ]
  },
  {
   "cell_type": "markdown",
   "metadata": {},
   "source": [
    "### Histogramme"
   ]
  },
  {
   "cell_type": "code",
   "execution_count": 4,
   "metadata": {},
   "outputs": [
    {
     "data": {
      "text/plain": [
       "<AxesSubplot:>"
      ]
     },
     "execution_count": 4,
     "metadata": {},
     "output_type": "execute_result"
    },
    {
     "data": {
      "image/png": "[encoded data removed]",
      "text/plain": [
       "<Figure size 432x288 with 1 Axes>"
      ]
     },
     "metadata": {
      "needs_background": "light"
     },
     "output_type": "display_data"
    }
   ],
   "source": [
    "df['customerType'].hist()"
   ]
  },
  {
   "cell_type": "code",
   "execution_count": 5,
   "metadata": {},
   "outputs": [
    {
     "data": {
      "text/plain": [
       "<AxesSubplot:>"
      ]
     },
     "execution_count": 5,
     "metadata": {},
     "output_type": "execute_result"
    },
    {
     "data": {
      "image/png": "[encoded data removed]",
      "text/plain": [
       "<Figure size 432x288 with 1 Axes>"
      ]
     },
     "metadata": {
      "needs_background": "light"
     },
     "output_type": "display_data"
    }
   ],
   "source": [
    "df['totalAmount'].hist()"
   ]
  },
  {
   "cell_type": "markdown",
   "metadata": {},
   "source": [
    "Verteilung von `ReturnLabel` über alle Daten"
   ]
  },
  {
   "cell_type": "code",
   "execution_count": 6,
   "metadata": {},
   "outputs": [
    {
     "data": {
      "text/plain": [
       "<AxesSubplot:>"
      ]
     },
     "execution_count": 6,
     "metadata": {},
     "output_type": "execute_result"
    },
    {
     "data": {
      "image/png": "[encoded data removed]",
      "text/plain": [
       "<Figure size 432x288 with 1 Axes>"
      ]
     },
     "metadata": {
      "needs_background": "light"
     },
     "output_type": "display_data"
    }
   ],
   "source": [
    "df['returnLabel'].hist()"
   ]
  },
  {
   "cell_type": "markdown",
   "metadata": {},
   "source": [
    "Verteilung von `returnLabel` in Abhängigkeit zu allen Ausprägungen von `customerType`"
   ]
  },
  {
   "cell_type": "code",
   "execution_count": 7,
   "metadata": {},
   "outputs": [
    {
     "name": "stdout",
     "output_type": "stream",
     "text": [
      "Values used for \"customerType\":\n",
      "new, existing, nan, "
     ]
    }
   ],
   "source": [
    "customerTypeValues = df['customerType'].unique()\n",
    "print('Values used for \"customerType\":')\n",
    "for v in customerTypeValues:\n",
    "    print(v, end=\", \")"
   ]
  },
  {
   "cell_type": "code",
   "execution_count": 8,
   "metadata": {},
   "outputs": [
    {
     "data": {
      "text/plain": [
       "<AxesSubplot:>"
      ]
     },
     "execution_count": 8,
     "metadata": {},
     "output_type": "execute_result"
    },
    {
     "data": {
      "image/png": "[encoded data removed]",
      "text/plain": [
       "<Figure size 432x288 with 1 Axes>"
      ]
     },
     "metadata": {
      "needs_background": "light"
     },
     "output_type": "display_data"
    }
   ],
   "source": [
    "df_new = df[df['customerType'] == 'new']\n",
    "df_new['returnLabel'].hist()"
   ]
  },
  {
   "cell_type": "code",
   "execution_count": 9,
   "metadata": {},
   "outputs": [
    {
     "data": {
      "text/plain": [
       "<AxesSubplot:>"
      ]
     },
     "execution_count": 9,
     "metadata": {},
     "output_type": "execute_result"
    },
    {
     "data": {
      "image/png": "[encoded data removed]",
      "text/plain": [
       "<Figure size 432x288 with 1 Axes>"
      ]
     },
     "metadata": {
      "needs_background": "light"
     },
     "output_type": "display_data"
    }
   ],
   "source": [
    "df_existing = df[df['customerType'] == 'existing']\n",
    "df_existing['returnLabel'].hist()"
   ]
  },
  {
   "cell_type": "code",
   "execution_count": 10,
   "metadata": {},
   "outputs": [
    {
     "data": {
      "text/plain": [
       "<AxesSubplot:>"
      ]
     },
     "execution_count": 10,
     "metadata": {},
     "output_type": "execute_result"
    },
    {
     "data": {
      "image/png": "[encoded data removed]",
      "text/plain": [
       "<Figure size 432x288 with 1 Axes>"
      ]
     },
     "metadata": {
      "needs_background": "light"
     },
     "output_type": "display_data"
    }
   ],
   "source": [
    "df_nan = df[df['customerType'] == 'nan']\n",
    "df_nan['returnLabel'].hist()\n",
    "# TODO Histogramm mit nan überhaupt nötig? None und '' geben das gleiche Histogramm aus"
   ]
  },
  {
   "cell_type": "markdown",
   "metadata": {},
   "source": [
    "Boxplot für `totalAmount` in Abhängigkeit von `returnLabel`"
   ]
  },
  {
   "cell_type": "code",
   "execution_count": 11,
   "metadata": {},
   "outputs": [
    {
     "data": {
      "text/plain": [
       "<AxesSubplot:title={'center':'totalAmount'}, xlabel='returnLabel'>"
      ]
     },
     "execution_count": 11,
     "metadata": {},
     "output_type": "execute_result"
    },
    {
     "data": {
      "image/png": "[encoded data removed]",
      "text/plain": [
       "<Figure size 432x288 with 1 Axes>"
      ]
     },
     "metadata": {
      "needs_background": "light"
     },
     "output_type": "display_data"
    }
   ],
   "source": [
    "df.boxplot(by='returnLabel', column='totalAmount')"
   ]
  },
  {
   "cell_type": "markdown",
   "metadata": {},
   "source": [
    "Displot für `totalAmount` in Abhängigkeit von `returnLabel`"
   ]
  },
  {
   "cell_type": "code",
   "execution_count": 12,
   "metadata": {},
   "outputs": [
    {
     "data": {
      "text/plain": [
       "<seaborn.axisgrid.FacetGrid at 0x1f66e3f7d60>"
      ]
     },
     "execution_count": 12,
     "metadata": {},
     "output_type": "execute_result"
    },
    {
     "data": {
      "image/png": "[encoded data removed]",
      "text/plain": [
       "<Figure size 425.5x360 with 1 Axes>"
      ]
     },
     "metadata": {
      "needs_background": "light"
     },
     "output_type": "display_data"
    }
   ],
   "source": [
    "import seaborn as sns\n",
    "sns.displot(df, x='totalAmount', hue='returnLabel')"
   ]
  },
  {
   "cell_type": "markdown",
   "metadata": {},
   "source": [
    "# Bearbeitung der Trainingsdaten"
   ]
  },
  {
   "cell_type": "markdown",
   "metadata": {},
   "source": [
    "## Null-Werte in den Trainingsdaten"
   ]
  },
  {
   "cell_type": "code",
   "execution_count": 13,
   "metadata": {},
   "outputs": [
    {
     "data": {
      "text/plain": [
       "transactionId      0\n",
       "basket             0\n",
       "customerType     442\n",
       "totalAmount      477\n",
       "returnLabel        0\n",
       "dtype: int64"
      ]
     },
     "execution_count": 13,
     "metadata": {},
     "output_type": "execute_result"
    }
   ],
   "source": [
    "df.isna().sum()"
   ]
  },
  {
   "cell_type": "markdown",
   "metadata": {},
   "source": [
    "Auffüllen der Null-Werte in der Spalte `totalAmount` und Entfernen der restlichen Zeilen mit Null-Werten"
   ]
  },
  {
   "cell_type": "code",
   "execution_count": 14,
   "metadata": {},
   "outputs": [
    {
     "name": "stdout",
     "output_type": "stream",
     "text": [
      "transactionId    0\n",
      "basket           0\n",
      "customerType     0\n",
      "totalAmount      0\n",
      "returnLabel      0\n",
      "dtype: int64\n",
      "Durchschnittlicher Gesamtpreis: 259.05601423162886\n",
      "Anzahl Zeilen: 21958\n"
     ]
    }
   ],
   "source": [
    "avg_amount = df['totalAmount'].mean()\n",
    "df['totalAmount'] = df['totalAmount'].fillna(avg_amount)\n",
    "df = df.dropna()\n",
    "print(df.isna().sum())\n",
    "print(\"Durchschnittlicher Gesamtpreis: \" + str(avg_amount) + \"\\nAnzahl Zeilen: \" + str(len(df)))"
   ]
  },
  {
   "cell_type": "markdown",
   "metadata": {},
   "source": [
    "One-Hot Encoding des kategorischen Feature `customerType`"
   ]
  },
  {
   "cell_type": "code",
   "execution_count": 15,
   "metadata": {},
   "outputs": [
    {
     "data": {
      "text/html": [
       "<div>\n",
       "<style scoped>\n",
       "    .dataframe tbody tr th:only-of-type {\n",
       "        vertical-align: middle;\n",
       "    }\n",
       "\n",
       "    .dataframe tbody tr th {\n",
       "        vertical-align: top;\n",
       "    }\n",
       "\n",
       "    .dataframe thead th {\n",
       "        text-align: right;\n",
       "    }\n",
       "</style>\n",
       "<table border=\"1\" class=\"dataframe\">\n",
       "  <thead>\n",
       "    <tr style=\"text-align: right;\">\n",
       "      <th></th>\n",
       "      <th>transactionId</th>\n",
       "      <th>basket</th>\n",
       "      <th>totalAmount</th>\n",
       "      <th>returnLabel</th>\n",
       "      <th>customerType_existing</th>\n",
       "      <th>customerType_new</th>\n",
       "    </tr>\n",
       "  </thead>\n",
       "  <tbody>\n",
       "    <tr>\n",
       "      <th>0</th>\n",
       "      <td>9534310106</td>\n",
       "      <td>[4, 3, 4]</td>\n",
       "      <td>252.0</td>\n",
       "      <td>1</td>\n",
       "      <td>0</td>\n",
       "      <td>1</td>\n",
       "    </tr>\n",
       "    <tr>\n",
       "      <th>1</th>\n",
       "      <td>7202594767</td>\n",
       "      <td>[4, 2, 0, 2, 5]</td>\n",
       "      <td>70.0</td>\n",
       "      <td>0</td>\n",
       "      <td>1</td>\n",
       "      <td>0</td>\n",
       "    </tr>\n",
       "    <tr>\n",
       "      <th>2</th>\n",
       "      <td>2737331698</td>\n",
       "      <td>[5]</td>\n",
       "      <td>84.0</td>\n",
       "      <td>0</td>\n",
       "      <td>1</td>\n",
       "      <td>0</td>\n",
       "    </tr>\n",
       "    <tr>\n",
       "      <th>3</th>\n",
       "      <td>4868011733</td>\n",
       "      <td>[1, 4, 2, 4]</td>\n",
       "      <td>116.0</td>\n",
       "      <td>0</td>\n",
       "      <td>1</td>\n",
       "      <td>0</td>\n",
       "    </tr>\n",
       "    <tr>\n",
       "      <th>4</th>\n",
       "      <td>7622406570</td>\n",
       "      <td>[2, 5, 3, 2, 3, 2, 0]</td>\n",
       "      <td>378.0</td>\n",
       "      <td>0</td>\n",
       "      <td>1</td>\n",
       "      <td>0</td>\n",
       "    </tr>\n",
       "  </tbody>\n",
       "</table>\n",
       "</div>"
      ],
      "text/plain": [
       "   transactionId                 basket  totalAmount  returnLabel  \\\n",
       "0     9534310106              [4, 3, 4]        252.0            1   \n",
       "1     7202594767        [4, 2, 0, 2, 5]         70.0            0   \n",
       "2     2737331698                    [5]         84.0            0   \n",
       "3     4868011733           [1, 4, 2, 4]        116.0            0   \n",
       "4     7622406570  [2, 5, 3, 2, 3, 2, 0]        378.0            0   \n",
       "\n",
       "   customerType_existing  customerType_new  \n",
       "0                      0                 1  \n",
       "1                      1                 0  \n",
       "2                      1                 0  \n",
       "3                      1                 0  \n",
       "4                      1                 0  "
      ]
     },
     "execution_count": 15,
     "metadata": {},
     "output_type": "execute_result"
    }
   ],
   "source": [
    "df = pd.get_dummies(df, columns=['customerType'])\n",
    "df.head()"
   ]
  },
  {
   "cell_type": "markdown",
   "metadata": {},
   "source": [
    "Transformation von `basket`"
   ]
  },
  {
   "cell_type": "markdown",
   "metadata": {},
   "source": [
    "Kategorien von `basket`:\n",
    "- Wie oft kommt jede Kategorie im `basket` vor?\n",
    "- Anzahl Bücher im `basket`?\n",
    "- Kommt eine Kategorie vor? noch nicht implementiert\n",
    "- Kommt eine Kategorie mehrmals vor? noch nicht implementiert"
   ]
  },
  {
   "cell_type": "markdown",
   "metadata": {},
   "source": [
    "Anzahl Bücher im `basket` (`basket_size`):"
   ]
  },
  {
   "cell_type": "code",
   "execution_count": 16,
   "metadata": {},
   "outputs": [
    {
     "data": {
      "text/html": [
       "<div>\n",
       "<style scoped>\n",
       "    .dataframe tbody tr th:only-of-type {\n",
       "        vertical-align: middle;\n",
       "    }\n",
       "\n",
       "    .dataframe tbody tr th {\n",
       "        vertical-align: top;\n",
       "    }\n",
       "\n",
       "    .dataframe thead th {\n",
       "        text-align: right;\n",
       "    }\n",
       "</style>\n",
       "<table border=\"1\" class=\"dataframe\">\n",
       "  <thead>\n",
       "    <tr style=\"text-align: right;\">\n",
       "      <th></th>\n",
       "      <th>transactionId</th>\n",
       "      <th>basket</th>\n",
       "      <th>totalAmount</th>\n",
       "      <th>returnLabel</th>\n",
       "      <th>customerType_existing</th>\n",
       "      <th>customerType_new</th>\n",
       "    </tr>\n",
       "  </thead>\n",
       "  <tbody>\n",
       "    <tr>\n",
       "      <th>0</th>\n",
       "      <td>9534310106</td>\n",
       "      <td>[4, 3, 4]</td>\n",
       "      <td>252.0</td>\n",
       "      <td>1</td>\n",
       "      <td>0</td>\n",
       "      <td>1</td>\n",
       "    </tr>\n",
       "    <tr>\n",
       "      <th>1</th>\n",
       "      <td>7202594767</td>\n",
       "      <td>[4, 2, 0, 2, 5]</td>\n",
       "      <td>70.0</td>\n",
       "      <td>0</td>\n",
       "      <td>1</td>\n",
       "      <td>0</td>\n",
       "    </tr>\n",
       "    <tr>\n",
       "      <th>2</th>\n",
       "      <td>2737331698</td>\n",
       "      <td>[5]</td>\n",
       "      <td>84.0</td>\n",
       "      <td>0</td>\n",
       "      <td>1</td>\n",
       "      <td>0</td>\n",
       "    </tr>\n",
       "    <tr>\n",
       "      <th>3</th>\n",
       "      <td>4868011733</td>\n",
       "      <td>[1, 4, 2, 4]</td>\n",
       "      <td>116.0</td>\n",
       "      <td>0</td>\n",
       "      <td>1</td>\n",
       "      <td>0</td>\n",
       "    </tr>\n",
       "    <tr>\n",
       "      <th>4</th>\n",
       "      <td>7622406570</td>\n",
       "      <td>[2, 5, 3, 2, 3, 2, 0]</td>\n",
       "      <td>378.0</td>\n",
       "      <td>0</td>\n",
       "      <td>1</td>\n",
       "      <td>0</td>\n",
       "    </tr>\n",
       "  </tbody>\n",
       "</table>\n",
       "</div>"
      ],
      "text/plain": [
       "   transactionId                 basket  totalAmount  returnLabel  \\\n",
       "0     9534310106              [4, 3, 4]        252.0            1   \n",
       "1     7202594767        [4, 2, 0, 2, 5]         70.0            0   \n",
       "2     2737331698                    [5]         84.0            0   \n",
       "3     4868011733           [1, 4, 2, 4]        116.0            0   \n",
       "4     7622406570  [2, 5, 3, 2, 3, 2, 0]        378.0            0   \n",
       "\n",
       "   customerType_existing  customerType_new  \n",
       "0                      0                 1  \n",
       "1                      1                 0  \n",
       "2                      1                 0  \n",
       "3                      1                 0  \n",
       "4                      1                 0  "
      ]
     },
     "execution_count": 16,
     "metadata": {},
     "output_type": "execute_result"
    }
   ],
   "source": [
    "df.head()"
   ]
  },
  {
   "cell_type": "markdown",
   "metadata": {},
   "source": [
    "Wie oft kommt eine Kategorie im `basket` vor?"
   ]
  },
  {
   "cell_type": "code",
   "execution_count": 17,
   "metadata": {},
   "outputs": [
    {
     "data": {
      "text/html": [
       "<div>\n",
       "<style scoped>\n",
       "    .dataframe tbody tr th:only-of-type {\n",
       "        vertical-align: middle;\n",
       "    }\n",
       "\n",
       "    .dataframe tbody tr th {\n",
       "        vertical-align: top;\n",
       "    }\n",
       "\n",
       "    .dataframe thead th {\n",
       "        text-align: right;\n",
       "    }\n",
       "</style>\n",
       "<table border=\"1\" class=\"dataframe\">\n",
       "  <thead>\n",
       "    <tr style=\"text-align: right;\">\n",
       "      <th></th>\n",
       "      <th>transactionId</th>\n",
       "      <th>basket</th>\n",
       "      <th>totalAmount</th>\n",
       "      <th>basket_0</th>\n",
       "      <th>basket_1</th>\n",
       "      <th>basket_2</th>\n",
       "      <th>basket_3</th>\n",
       "      <th>basket_4</th>\n",
       "      <th>basket_5</th>\n",
       "      <th>returnLabel</th>\n",
       "      <th>customerType_existing</th>\n",
       "      <th>customerType_new</th>\n",
       "    </tr>\n",
       "  </thead>\n",
       "  <tbody>\n",
       "    <tr>\n",
       "      <th>0</th>\n",
       "      <td>9534310106</td>\n",
       "      <td>[4, 3, 4]</td>\n",
       "      <td>252.0</td>\n",
       "      <td>0</td>\n",
       "      <td>0</td>\n",
       "      <td>0</td>\n",
       "      <td>1</td>\n",
       "      <td>2</td>\n",
       "      <td>0</td>\n",
       "      <td>1</td>\n",
       "      <td>0</td>\n",
       "      <td>1</td>\n",
       "    </tr>\n",
       "    <tr>\n",
       "      <th>1</th>\n",
       "      <td>7202594767</td>\n",
       "      <td>[4, 2, 0, 2, 5]</td>\n",
       "      <td>70.0</td>\n",
       "      <td>1</td>\n",
       "      <td>0</td>\n",
       "      <td>2</td>\n",
       "      <td>0</td>\n",
       "      <td>1</td>\n",
       "      <td>1</td>\n",
       "      <td>0</td>\n",
       "      <td>1</td>\n",
       "      <td>0</td>\n",
       "    </tr>\n",
       "    <tr>\n",
       "      <th>2</th>\n",
       "      <td>2737331698</td>\n",
       "      <td>[5]</td>\n",
       "      <td>84.0</td>\n",
       "      <td>0</td>\n",
       "      <td>0</td>\n",
       "      <td>0</td>\n",
       "      <td>0</td>\n",
       "      <td>0</td>\n",
       "      <td>1</td>\n",
       "      <td>0</td>\n",
       "      <td>1</td>\n",
       "      <td>0</td>\n",
       "    </tr>\n",
       "    <tr>\n",
       "      <th>3</th>\n",
       "      <td>4868011733</td>\n",
       "      <td>[1, 4, 2, 4]</td>\n",
       "      <td>116.0</td>\n",
       "      <td>0</td>\n",
       "      <td>1</td>\n",
       "      <td>1</td>\n",
       "      <td>0</td>\n",
       "      <td>2</td>\n",
       "      <td>0</td>\n",
       "      <td>0</td>\n",
       "      <td>1</td>\n",
       "      <td>0</td>\n",
       "    </tr>\n",
       "    <tr>\n",
       "      <th>4</th>\n",
       "      <td>7622406570</td>\n",
       "      <td>[2, 5, 3, 2, 3, 2, 0]</td>\n",
       "      <td>378.0</td>\n",
       "      <td>1</td>\n",
       "      <td>0</td>\n",
       "      <td>3</td>\n",
       "      <td>2</td>\n",
       "      <td>0</td>\n",
       "      <td>1</td>\n",
       "      <td>0</td>\n",
       "      <td>1</td>\n",
       "      <td>0</td>\n",
       "    </tr>\n",
       "  </tbody>\n",
       "</table>\n",
       "</div>"
      ],
      "text/plain": [
       "   transactionId                 basket  totalAmount  basket_0  basket_1  \\\n",
       "0     9534310106              [4, 3, 4]        252.0         0         0   \n",
       "1     7202594767        [4, 2, 0, 2, 5]         70.0         1         0   \n",
       "2     2737331698                    [5]         84.0         0         0   \n",
       "3     4868011733           [1, 4, 2, 4]        116.0         0         1   \n",
       "4     7622406570  [2, 5, 3, 2, 3, 2, 0]        378.0         1         0   \n",
       "\n",
       "   basket_2  basket_3  basket_4  basket_5  returnLabel  customerType_existing  \\\n",
       "0         0         1         2         0            1                      0   \n",
       "1         2         0         1         1            0                      1   \n",
       "2         0         0         0         1            0                      1   \n",
       "3         1         0         2         0            0                      1   \n",
       "4         3         2         0         1            0                      1   \n",
       "\n",
       "   customerType_new  \n",
       "0                 1  \n",
       "1                 0  \n",
       "2                 0  \n",
       "3                 0  \n",
       "4                 0  "
      ]
     },
     "execution_count": 17,
     "metadata": {},
     "output_type": "execute_result"
    }
   ],
   "source": [
    "for i in range(6):\n",
    "    df.insert(loc=3+i, column='basket_' + str(i), value=0)\n",
    "for i in range(len(df['basket'])):\n",
    "    df['basket_0'].iloc[i] = df['basket'].iloc[i].count('0')\n",
    "    df['basket_1'].iloc[i] = df['basket'].iloc[i].count('1')\n",
    "    df['basket_2'].iloc[i] = df['basket'].iloc[i].count('2')\n",
    "    df['basket_3'].iloc[i] = df['basket'].iloc[i].count('3')\n",
    "    df['basket_4'].iloc[i] = df['basket'].iloc[i].count('4')\n",
    "    df['basket_5'].iloc[i] = df['basket'].iloc[i].count('5')\n",
    "df.head()"
   ]
  },
  {
   "cell_type": "markdown",
   "metadata": {},
   "source": [
    "**Entfernen des Labels und vom Basket**"
   ]
  },
  {
   "cell_type": "code",
   "execution_count": 18,
   "metadata": {},
   "outputs": [
    {
     "data": {
      "text/html": [
       "<div>\n",
       "<style scoped>\n",
       "    .dataframe tbody tr th:only-of-type {\n",
       "        vertical-align: middle;\n",
       "    }\n",
       "\n",
       "    .dataframe tbody tr th {\n",
       "        vertical-align: top;\n",
       "    }\n",
       "\n",
       "    .dataframe thead th {\n",
       "        text-align: right;\n",
       "    }\n",
       "</style>\n",
       "<table border=\"1\" class=\"dataframe\">\n",
       "  <thead>\n",
       "    <tr style=\"text-align: right;\">\n",
       "      <th></th>\n",
       "      <th>transactionId</th>\n",
       "      <th>totalAmount</th>\n",
       "      <th>basket_0</th>\n",
       "      <th>basket_1</th>\n",
       "      <th>basket_2</th>\n",
       "      <th>basket_3</th>\n",
       "      <th>basket_4</th>\n",
       "      <th>basket_5</th>\n",
       "      <th>customerType_existing</th>\n",
       "      <th>customerType_new</th>\n",
       "    </tr>\n",
       "  </thead>\n",
       "  <tbody>\n",
       "    <tr>\n",
       "      <th>0</th>\n",
       "      <td>9534310106</td>\n",
       "      <td>252.0</td>\n",
       "      <td>0</td>\n",
       "      <td>0</td>\n",
       "      <td>0</td>\n",
       "      <td>1</td>\n",
       "      <td>2</td>\n",
       "      <td>0</td>\n",
       "      <td>0</td>\n",
       "      <td>1</td>\n",
       "    </tr>\n",
       "    <tr>\n",
       "      <th>1</th>\n",
       "      <td>7202594767</td>\n",
       "      <td>70.0</td>\n",
       "      <td>1</td>\n",
       "      <td>0</td>\n",
       "      <td>2</td>\n",
       "      <td>0</td>\n",
       "      <td>1</td>\n",
       "      <td>1</td>\n",
       "      <td>1</td>\n",
       "      <td>0</td>\n",
       "    </tr>\n",
       "    <tr>\n",
       "      <th>2</th>\n",
       "      <td>2737331698</td>\n",
       "      <td>84.0</td>\n",
       "      <td>0</td>\n",
       "      <td>0</td>\n",
       "      <td>0</td>\n",
       "      <td>0</td>\n",
       "      <td>0</td>\n",
       "      <td>1</td>\n",
       "      <td>1</td>\n",
       "      <td>0</td>\n",
       "    </tr>\n",
       "    <tr>\n",
       "      <th>3</th>\n",
       "      <td>4868011733</td>\n",
       "      <td>116.0</td>\n",
       "      <td>0</td>\n",
       "      <td>1</td>\n",
       "      <td>1</td>\n",
       "      <td>0</td>\n",
       "      <td>2</td>\n",
       "      <td>0</td>\n",
       "      <td>1</td>\n",
       "      <td>0</td>\n",
       "    </tr>\n",
       "    <tr>\n",
       "      <th>4</th>\n",
       "      <td>7622406570</td>\n",
       "      <td>378.0</td>\n",
       "      <td>1</td>\n",
       "      <td>0</td>\n",
       "      <td>3</td>\n",
       "      <td>2</td>\n",
       "      <td>0</td>\n",
       "      <td>1</td>\n",
       "      <td>1</td>\n",
       "      <td>0</td>\n",
       "    </tr>\n",
       "  </tbody>\n",
       "</table>\n",
       "</div>"
      ],
      "text/plain": [
       "   transactionId  totalAmount  basket_0  basket_1  basket_2  basket_3  \\\n",
       "0     9534310106        252.0         0         0         0         1   \n",
       "1     7202594767         70.0         1         0         2         0   \n",
       "2     2737331698         84.0         0         0         0         0   \n",
       "3     4868011733        116.0         0         1         1         0   \n",
       "4     7622406570        378.0         1         0         3         2   \n",
       "\n",
       "   basket_4  basket_5  customerType_existing  customerType_new  \n",
       "0         2         0                      0                 1  \n",
       "1         1         1                      1                 0  \n",
       "2         0         1                      1                 0  \n",
       "3         2         0                      1                 0  \n",
       "4         0         1                      1                 0  "
      ]
     },
     "execution_count": 18,
     "metadata": {},
     "output_type": "execute_result"
    }
   ],
   "source": [
    "df_label = df['returnLabel']\n",
    "df = df.drop(columns=['basket', 'returnLabel'])\n",
    "df.head()"
   ]
  },
  {
   "cell_type": "markdown",
   "metadata": {},
   "source": [
    "Skalieren des Trainingsdatensatzes mit einem `StandardScaler`"
   ]
  },
  {
   "cell_type": "code",
   "execution_count": 19,
   "metadata": {},
   "outputs": [
    {
     "data": {
      "text/plain": [
       "array([[ 1.55775697, -0.03362639, -0.7716456 , ..., -0.64499938,\n",
       "        -1.53675125,  1.53675125],\n",
       "       [ 0.65856335, -0.87908276,  0.38540125, ...,  0.52510111,\n",
       "         0.6507234 , -0.6507234 ],\n",
       "       [-1.06340332, -0.81404765, -0.7716456 , ...,  0.52510111,\n",
       "         0.6507234 , -0.6507234 ],\n",
       "       ...,\n",
       "       [-1.50569248, -0.04756248,  0.38540125, ..., -0.64499938,\n",
       "        -1.53675125,  1.53675125],\n",
       "       [-1.42448896, -0.83262911,  0.38540125, ...,  2.86530209,\n",
       "         0.6507234 , -0.6507234 ],\n",
       "       [ 1.70018512,  1.08126112,  0.38540125, ..., -0.64499938,\n",
       "        -1.53675125,  1.53675125]])"
      ]
     },
     "execution_count": 19,
     "metadata": {},
     "output_type": "execute_result"
    }
   ],
   "source": [
    "from sklearn.preprocessing import StandardScaler\n",
    "scaler = StandardScaler().fit(df)\n",
    "df_scaled = scaler.transform(df)\n",
    "df_scaled"
   ]
  },
  {
   "cell_type": "markdown",
   "metadata": {},
   "source": [
    "## Testdatensatz"
   ]
  },
  {
   "cell_type": "markdown",
   "metadata": {},
   "source": [
    "Laden des Testdatensatzes"
   ]
  },
  {
   "cell_type": "code",
   "execution_count": 20,
   "metadata": {},
   "outputs": [
    {
     "data": {
      "text/html": [
       "<div>\n",
       "<style scoped>\n",
       "    .dataframe tbody tr th:only-of-type {\n",
       "        vertical-align: middle;\n",
       "    }\n",
       "\n",
       "    .dataframe tbody tr th {\n",
       "        vertical-align: top;\n",
       "    }\n",
       "\n",
       "    .dataframe thead th {\n",
       "        text-align: right;\n",
       "    }\n",
       "</style>\n",
       "<table border=\"1\" class=\"dataframe\">\n",
       "  <thead>\n",
       "    <tr style=\"text-align: right;\">\n",
       "      <th></th>\n",
       "      <th>transactionId</th>\n",
       "      <th>basket</th>\n",
       "      <th>customerType</th>\n",
       "      <th>totalAmount</th>\n",
       "      <th>returnLabel</th>\n",
       "    </tr>\n",
       "  </thead>\n",
       "  <tbody>\n",
       "    <tr>\n",
       "      <th>0</th>\n",
       "      <td>4132523932</td>\n",
       "      <td>[4, 3, 4, 3, 2, 3]</td>\n",
       "      <td>existing</td>\n",
       "      <td>366.0</td>\n",
       "      <td>1</td>\n",
       "    </tr>\n",
       "    <tr>\n",
       "      <th>1</th>\n",
       "      <td>8998574539</td>\n",
       "      <td>[3, 4, 4, 3, 5]</td>\n",
       "      <td>existing</td>\n",
       "      <td>85.0</td>\n",
       "      <td>0</td>\n",
       "    </tr>\n",
       "    <tr>\n",
       "      <th>2</th>\n",
       "      <td>9346688547</td>\n",
       "      <td>[1, 1, 2, 2, 4, 4, 3, 1, 1, 0, 3]</td>\n",
       "      <td>existing</td>\n",
       "      <td>275.0</td>\n",
       "      <td>0</td>\n",
       "    </tr>\n",
       "    <tr>\n",
       "      <th>3</th>\n",
       "      <td>4533897707</td>\n",
       "      <td>[3, 2, 2, 1, 5, 1, 1, 0]</td>\n",
       "      <td>existing</td>\n",
       "      <td>528.0</td>\n",
       "      <td>0</td>\n",
       "    </tr>\n",
       "    <tr>\n",
       "      <th>4</th>\n",
       "      <td>3334800500</td>\n",
       "      <td>[4, 2, 3, 5, 2, 5, 1]</td>\n",
       "      <td>existing</td>\n",
       "      <td>287.0</td>\n",
       "      <td>0</td>\n",
       "    </tr>\n",
       "  </tbody>\n",
       "</table>\n",
       "</div>"
      ],
      "text/plain": [
       "   transactionId                             basket customerType  totalAmount  \\\n",
       "0     4132523932                 [4, 3, 4, 3, 2, 3]     existing        366.0   \n",
       "1     8998574539                    [3, 4, 4, 3, 5]     existing         85.0   \n",
       "2     9346688547  [1, 1, 2, 2, 4, 4, 3, 1, 1, 0, 3]     existing        275.0   \n",
       "3     4533897707           [3, 2, 2, 1, 5, 1, 1, 0]     existing        528.0   \n",
       "4     3334800500              [4, 2, 3, 5, 2, 5, 1]     existing        287.0   \n",
       "\n",
       "   returnLabel  \n",
       "0            1  \n",
       "1            0  \n",
       "2            0  \n",
       "3            0  \n",
       "4            0  "
      ]
     },
     "execution_count": 20,
     "metadata": {},
     "output_type": "execute_result"
    }
   ],
   "source": [
    "df_test = pd.read_csv('test.csv', sep=';')\n",
    "df_test.head()"
   ]
  },
  {
   "cell_type": "markdown",
   "metadata": {},
   "source": [
    "Null-Werte im Testdatensatz"
   ]
  },
  {
   "cell_type": "code",
   "execution_count": 21,
   "metadata": {},
   "outputs": [
    {
     "data": {
      "text/plain": [
       "transactionId      0\n",
       "basket             0\n",
       "customerType     203\n",
       "totalAmount      175\n",
       "returnLabel        0\n",
       "dtype: int64"
      ]
     },
     "execution_count": 21,
     "metadata": {},
     "output_type": "execute_result"
    }
   ],
   "source": [
    "df_test.isna().sum()"
   ]
  },
  {
   "cell_type": "markdown",
   "metadata": {},
   "source": [
    "Auffüllen der Null-Werte in `totalAmount` und Entfernen des Rests (`customerType`)"
   ]
  },
  {
   "cell_type": "code",
   "execution_count": 22,
   "metadata": {},
   "outputs": [
    {
     "name": "stdout",
     "output_type": "stream",
     "text": [
      "transactionId    0\n",
      "basket           0\n",
      "customerType     0\n",
      "totalAmount      0\n",
      "returnLabel      0\n",
      "dtype: int64\n",
      "Durchschnittlicher Gesamtpreis: 263.1954376657825\n",
      "Anzahl Zeilen: 9397\n"
     ]
    }
   ],
   "source": [
    "avg_amount = df_test['totalAmount'].mean()\n",
    "df_test['totalAmount'] = df_test['totalAmount'].fillna(avg_amount)\n",
    "df_test = df_test.dropna()\n",
    "print(df_test.isna().sum())\n",
    "print(\"Durchschnittlicher Gesamtpreis: \" + str(avg_amount) + \"\\nAnzahl Zeilen: \" + str(len(df_test)))"
   ]
  },
  {
   "cell_type": "markdown",
   "metadata": {},
   "source": [
    "Transformation des Testdatensatzes analog Trainingsdatensatz (One-Hot-Encoding von `customerType` & Basket-Features)"
   ]
  },
  {
   "cell_type": "code",
   "execution_count": 23,
   "metadata": {},
   "outputs": [
    {
     "data": {
      "text/html": [
       "<div>\n",
       "<style scoped>\n",
       "    .dataframe tbody tr th:only-of-type {\n",
       "        vertical-align: middle;\n",
       "    }\n",
       "\n",
       "    .dataframe tbody tr th {\n",
       "        vertical-align: top;\n",
       "    }\n",
       "\n",
       "    .dataframe thead th {\n",
       "        text-align: right;\n",
       "    }\n",
       "</style>\n",
       "<table border=\"1\" class=\"dataframe\">\n",
       "  <thead>\n",
       "    <tr style=\"text-align: right;\">\n",
       "      <th></th>\n",
       "      <th>transactionId</th>\n",
       "      <th>basket</th>\n",
       "      <th>totalAmount</th>\n",
       "      <th>basket_0</th>\n",
       "      <th>basket_1</th>\n",
       "      <th>basket_2</th>\n",
       "      <th>basket_3</th>\n",
       "      <th>basket_4</th>\n",
       "      <th>basket_5</th>\n",
       "      <th>returnLabel</th>\n",
       "      <th>customerType_existing</th>\n",
       "      <th>customerType_new</th>\n",
       "    </tr>\n",
       "  </thead>\n",
       "  <tbody>\n",
       "    <tr>\n",
       "      <th>0</th>\n",
       "      <td>4132523932</td>\n",
       "      <td>[4, 3, 4, 3, 2, 3]</td>\n",
       "      <td>366.0</td>\n",
       "      <td>0</td>\n",
       "      <td>0</td>\n",
       "      <td>1</td>\n",
       "      <td>3</td>\n",
       "      <td>2</td>\n",
       "      <td>0</td>\n",
       "      <td>1</td>\n",
       "      <td>1</td>\n",
       "      <td>0</td>\n",
       "    </tr>\n",
       "    <tr>\n",
       "      <th>1</th>\n",
       "      <td>8998574539</td>\n",
       "      <td>[3, 4, 4, 3, 5]</td>\n",
       "      <td>85.0</td>\n",
       "      <td>0</td>\n",
       "      <td>0</td>\n",
       "      <td>0</td>\n",
       "      <td>2</td>\n",
       "      <td>2</td>\n",
       "      <td>1</td>\n",
       "      <td>0</td>\n",
       "      <td>1</td>\n",
       "      <td>0</td>\n",
       "    </tr>\n",
       "    <tr>\n",
       "      <th>2</th>\n",
       "      <td>9346688547</td>\n",
       "      <td>[1, 1, 2, 2, 4, 4, 3, 1, 1, 0, 3]</td>\n",
       "      <td>275.0</td>\n",
       "      <td>1</td>\n",
       "      <td>4</td>\n",
       "      <td>2</td>\n",
       "      <td>2</td>\n",
       "      <td>2</td>\n",
       "      <td>0</td>\n",
       "      <td>0</td>\n",
       "      <td>1</td>\n",
       "      <td>0</td>\n",
       "    </tr>\n",
       "    <tr>\n",
       "      <th>3</th>\n",
       "      <td>4533897707</td>\n",
       "      <td>[3, 2, 2, 1, 5, 1, 1, 0]</td>\n",
       "      <td>528.0</td>\n",
       "      <td>1</td>\n",
       "      <td>3</td>\n",
       "      <td>2</td>\n",
       "      <td>1</td>\n",
       "      <td>0</td>\n",
       "      <td>1</td>\n",
       "      <td>0</td>\n",
       "      <td>1</td>\n",
       "      <td>0</td>\n",
       "    </tr>\n",
       "    <tr>\n",
       "      <th>4</th>\n",
       "      <td>3334800500</td>\n",
       "      <td>[4, 2, 3, 5, 2, 5, 1]</td>\n",
       "      <td>287.0</td>\n",
       "      <td>0</td>\n",
       "      <td>1</td>\n",
       "      <td>2</td>\n",
       "      <td>1</td>\n",
       "      <td>1</td>\n",
       "      <td>2</td>\n",
       "      <td>0</td>\n",
       "      <td>1</td>\n",
       "      <td>0</td>\n",
       "    </tr>\n",
       "  </tbody>\n",
       "</table>\n",
       "</div>"
      ],
      "text/plain": [
       "   transactionId                             basket  totalAmount  basket_0  \\\n",
       "0     4132523932                 [4, 3, 4, 3, 2, 3]        366.0         0   \n",
       "1     8998574539                    [3, 4, 4, 3, 5]         85.0         0   \n",
       "2     9346688547  [1, 1, 2, 2, 4, 4, 3, 1, 1, 0, 3]        275.0         1   \n",
       "3     4533897707           [3, 2, 2, 1, 5, 1, 1, 0]        528.0         1   \n",
       "4     3334800500              [4, 2, 3, 5, 2, 5, 1]        287.0         0   \n",
       "\n",
       "   basket_1  basket_2  basket_3  basket_4  basket_5  returnLabel  \\\n",
       "0         0         1         3         2         0            1   \n",
       "1         0         0         2         2         1            0   \n",
       "2         4         2         2         2         0            0   \n",
       "3         3         2         1         0         1            0   \n",
       "4         1         2         1         1         2            0   \n",
       "\n",
       "   customerType_existing  customerType_new  \n",
       "0                      1                 0  \n",
       "1                      1                 0  \n",
       "2                      1                 0  \n",
       "3                      1                 0  \n",
       "4                      1                 0  "
      ]
     },
     "execution_count": 23,
     "metadata": {},
     "output_type": "execute_result"
    }
   ],
   "source": [
    "df_test = pd.get_dummies(df_test, columns=['customerType'])\n",
    "for i in range(6):\n",
    "    df_test.insert(loc=3+i, column='basket_' + str(i), value=0)\n",
    "for i in range(len(df_test['basket'])):\n",
    "    df_test['basket_0'].iloc[i] = df_test['basket'].iloc[i].count('0')\n",
    "    df_test['basket_1'].iloc[i] = df_test['basket'].iloc[i].count('1')\n",
    "    df_test['basket_2'].iloc[i] = df_test['basket'].iloc[i].count('2')\n",
    "    df_test['basket_3'].iloc[i] = df_test['basket'].iloc[i].count('3')\n",
    "    df_test['basket_4'].iloc[i] = df_test['basket'].iloc[i].count('4')\n",
    "    df_test['basket_5'].iloc[i] = df_test['basket'].iloc[i].count('5')\n",
    "df_test.head()"
   ]
  },
  {
   "cell_type": "markdown",
   "metadata": {},
   "source": [
    "Aufteilen des Trainingsdatensatzes in Label und restliche Features"
   ]
  },
  {
   "cell_type": "code",
   "execution_count": 24,
   "metadata": {},
   "outputs": [],
   "source": [
    "df_test_label = df_test['returnLabel']\n",
    "df_test = df_test.drop(columns=['basket', 'returnLabel'])"
   ]
  },
  {
   "cell_type": "markdown",
   "metadata": {},
   "source": [
    "Skalieren des Testdatensatzes"
   ]
  },
  {
   "cell_type": "code",
   "execution_count": 25,
   "metadata": {},
   "outputs": [
    {
     "data": {
      "text/plain": [
       "array([[-0.52536681,  0.49594518, -0.7716456 , ..., -0.64499938,\n",
       "         0.6507234 , -0.6507234 ],\n",
       "       [ 1.351158  , -0.80940229, -0.7716456 , ...,  0.52510111,\n",
       "         0.6507234 , -0.6507234 ],\n",
       "       [ 1.48540333,  0.073217  ,  0.38540125, ..., -0.64499938,\n",
       "         0.6507234 , -0.6507234 ],\n",
       "       ...,\n",
       "       [-1.04789114, -0.61894234, -0.7716456 , ..., -0.64499938,\n",
       "         0.6507234 , -0.6507234 ],\n",
       "       [ 0.65959745, -0.87908276,  1.54244811, ...,  0.52510111,\n",
       "         0.6507234 , -0.6507234 ],\n",
       "       [-1.20998772, -0.5446165 , -0.7716456 , ..., -0.64499938,\n",
       "         0.6507234 , -0.6507234 ]])"
      ]
     },
     "execution_count": 25,
     "metadata": {},
     "output_type": "execute_result"
    }
   ],
   "source": [
    "df_test_scaled = scaler.transform(df_test)\n",
    "df_test_scaled"
   ]
  },
  {
   "cell_type": "markdown",
   "metadata": {},
   "source": [
    "# Trainieren der Modelle"
   ]
  },
  {
   "cell_type": "markdown",
   "metadata": {},
   "source": [
    "## Modell 1: Logistische Regression"
   ]
  },
  {
   "cell_type": "code",
   "execution_count": 26,
   "metadata": {},
   "outputs": [
    {
     "name": "stdout",
     "output_type": "stream",
     "text": [
      "Bestes C: 1 \n",
      "Beste penalty: l1 \n",
      "Bester Score: 0.8791326873688895\n"
     ]
    },
    {
     "name": "stderr",
     "output_type": "stream",
     "text": [
      "c:\\Users\\alexa\\anaconda3\\envs\\ml-course\\lib\\site-packages\\sklearn\\linear_model\\_sag.py:352: ConvergenceWarning: The max_iter was reached which means the coef_ did not converge\n",
      "  warnings.warn(\n"
     ]
    }
   ],
   "source": [
    "from sklearn.linear_model import LogisticRegression\n",
    "from sklearn.metrics import mean_squared_error as MSE, accuracy_score, recall_score, precision_score, f1_score\n",
    "from sklearn.model_selection import GridSearchCV\n",
    "candidates = [{'C': [0.1, 1, 4, 5, 6, 10, 30, 100], 'penalty': ['l1', 'l2']}]\n",
    "model_no_cv = LogisticRegression(solver='saga', random_state=0)\n",
    "model = GridSearchCV(estimator=model_no_cv, param_grid=candidates, n_jobs=-1)\n",
    "model.fit(df_scaled, df_label)\n",
    "print(\"Bestes C:\", model.best_estimator_.C,\n",
    "\"\\nBeste penalty:\", model.best_estimator_.penalty,\n",
    "\"\\nBester Score:\", model.best_score_)"
   ]
  },
  {
   "cell_type": "markdown",
   "metadata": {},
   "source": [
    "Vorhersagen der logistischen Regression"
   ]
  },
  {
   "cell_type": "code",
   "execution_count": 27,
   "metadata": {},
   "outputs": [
    {
     "name": "stdout",
     "output_type": "stream",
     "text": [
      "Länge der Testdaten: 9397 (Features) / 9397 (Label)\n"
     ]
    }
   ],
   "source": [
    "print(\"Länge der Testdaten:\", len(df_test_scaled), \"(Features) /\", len(df_test_label), \"(Label)\")"
   ]
  },
  {
   "cell_type": "code",
   "execution_count": 28,
   "metadata": {},
   "outputs": [
    {
     "name": "stdout",
     "output_type": "stream",
     "text": [
      "Accuracy: 0.873151005640098 \n",
      "Precision: 0.8172888015717092 \n",
      "Recall: 0.7410046312789454 \n",
      "F1-Score: 0.7772795216741405 \n",
      "Mean Squared Error: 0.1268489943599021\n"
     ]
    }
   ],
   "source": [
    "predictions = model.predict(df_test_scaled)\n",
    "print(\"Accuracy:\", accuracy_score(df_test_label, predictions),\n",
    "\"\\nPrecision:\", precision_score(df_test_label, predictions),\n",
    "\"\\nRecall:\", recall_score(df_test_label, predictions),\n",
    "\"\\nF1-Score:\", f1_score(df_test_label, predictions),\n",
    "\"\\nMean Squared Error:\", MSE(df_test_label, predictions))"
   ]
  },
  {
   "cell_type": "markdown",
   "metadata": {},
   "source": [
    "Accuracy auf den Trainingsdaten"
   ]
  },
  {
   "cell_type": "code",
   "execution_count": 29,
   "metadata": {},
   "outputs": [
    {
     "name": "stdout",
     "output_type": "stream",
     "text": [
      "Accuracy: 0.8794061389926223\n"
     ]
    }
   ],
   "source": [
    "predictions = model.predict(df_scaled)\n",
    "print(\"Accuracy:\", accuracy_score(df_label, predictions))"
   ]
  },
  {
   "cell_type": "markdown",
   "metadata": {},
   "source": [
    "# 2. Modell: Random Forest"
   ]
  },
  {
   "cell_type": "code",
   "execution_count": 30,
   "metadata": {},
   "outputs": [
    {
     "data": {
      "text/plain": [
       "GridSearchCV(estimator=RandomForestClassifier(random_state=0), n_jobs=-1,\n",
       "             param_grid=[{'n_estimators': [60, 80, 100, 120, 140]},\n",
       "                         {'max_depth': [2, 4, 6]}])"
      ]
     },
     "execution_count": 30,
     "metadata": {},
     "output_type": "execute_result"
    }
   ],
   "source": [
    "from sklearn.ensemble import RandomForestClassifier\n",
    "candidates = [{'n_estimators': [60, 80, 100, 120, 140]}, {'max_depth': [2, 4, 6]}]\n",
    "model = GridSearchCV(estimator=RandomForestClassifier(random_state=0), param_grid=candidates, n_jobs=-1)\n",
    "model.fit(df_scaled, df_label)"
   ]
  },
  {
   "cell_type": "markdown",
   "metadata": {},
   "source": [
    "Beste Hyperparameter"
   ]
  },
  {
   "cell_type": "code",
   "execution_count": 31,
   "metadata": {},
   "outputs": [
    {
     "name": "stdout",
     "output_type": "stream",
     "text": [
      "Bester Wert für n_estimators: 100 \n",
      "Bester Wert für max_depth: 6 \n",
      "Bester Score: 0.8685216677265428\n"
     ]
    }
   ],
   "source": [
    "print(\"Bester Wert für n_estimators:\", model.best_estimator_.n_estimators,\n",
    "\"\\nBester Wert für max_depth:\", model.best_estimator_.max_depth,\n",
    "\"\\nBester Score:\", model.best_score_)"
   ]
  },
  {
   "cell_type": "markdown",
   "metadata": {},
   "source": [
    "Vorhersagen mit dem Random Forest"
   ]
  },
  {
   "cell_type": "code",
   "execution_count": 32,
   "metadata": {},
   "outputs": [
    {
     "name": "stdout",
     "output_type": "stream",
     "text": [
      "Accuracy: 0.8610194743003086 \n",
      "Precision: 0.7981724274930473 \n",
      "Recall: 0.71571072319202 \n",
      "F1-Score: 0.7546957175056348 \n",
      "Mean Squared Error: 0.13898052569969138\n",
      "\n",
      "Accuracy auf den Trainingsdaten: 0.8728937061663176\n"
     ]
    }
   ],
   "source": [
    "predictions = model.predict(df_test_scaled)\n",
    "print(\"Accuracy:\", accuracy_score(df_test_label, predictions),\n",
    "\"\\nPrecision:\", precision_score(df_test_label, predictions),\n",
    "\"\\nRecall:\", recall_score(df_test_label, predictions),\n",
    "\"\\nF1-Score:\", f1_score(df_test_label, predictions),\n",
    "\"\\nMean Squared Error:\", MSE(df_test_label, predictions))\n",
    "predictions = model.predict(df_scaled)\n",
    "print(\"\\nAccuracy auf den Trainingsdaten:\", accuracy_score(df_label, predictions))"
   ]
  },
  {
   "cell_type": "markdown",
   "metadata": {},
   "source": [
    "# 3. Gradient Boosting Tree"
   ]
  },
  {
   "cell_type": "code",
   "execution_count": 33,
   "metadata": {},
   "outputs": [
    {
     "data": {
      "text/plain": [
       "GridSearchCV(estimator=GradientBoostingClassifier(max_depth=2, random_state=0),\n",
       "             n_jobs=-1,\n",
       "             param_grid=[{'n_estimators': [60, 80, 100, 120, 140]},\n",
       "                         {'max_depth': [2, 4, 6]}])"
      ]
     },
     "execution_count": 33,
     "metadata": {},
     "output_type": "execute_result"
    }
   ],
   "source": [
    "from sklearn.ensemble import GradientBoostingClassifier\n",
    "model = GridSearchCV(estimator=GradientBoostingClassifier(max_depth=2,random_state=0), n_jobs=-1, param_grid=candidates)\n",
    "model.fit(df_scaled, df_label)"
   ]
  },
  {
   "cell_type": "markdown",
   "metadata": {},
   "source": [
    "Beste Hyperparameter"
   ]
  },
  {
   "cell_type": "code",
   "execution_count": 34,
   "metadata": {},
   "outputs": [
    {
     "name": "stdout",
     "output_type": "stream",
     "text": [
      "Bester Wert für n_estimators: 140 \n",
      "Bester Wert für max_depth: 2 \n",
      "Bester Score: 0.8793150959965719\n"
     ]
    }
   ],
   "source": [
    "print(\"Bester Wert für n_estimators:\", model.best_estimator_.n_estimators,\n",
    "\"\\nBester Wert für max_depth:\", model.best_estimator_.max_depth,\n",
    "\"\\nBester Score:\", model.best_score_)"
   ]
  },
  {
   "cell_type": "markdown",
   "metadata": {},
   "source": [
    "Vorhersagen mit dem Gradient Boosting Tree"
   ]
  },
  {
   "cell_type": "code",
   "execution_count": 35,
   "metadata": {},
   "outputs": [
    {
     "name": "stdout",
     "output_type": "stream",
     "text": [
      "Accuracy: 0.8727253378737895 \n",
      "Precision: 0.8075601374570447 \n",
      "Recall: 0.75347345920912 \n",
      "F1-Score: 0.7795798009583487 \n",
      "Mean Squared Error: 0.1272746621262105\n",
      "\n",
      "Accuracy auf den Trainingsdaten: 0.8819564623371892\n"
     ]
    }
   ],
   "source": [
    "predictions = model.predict(df_test_scaled)\n",
    "print(\"Accuracy:\", accuracy_score(df_test_label, predictions),\n",
    "\"\\nPrecision:\", precision_score(df_test_label, predictions),\n",
    "\"\\nRecall:\", recall_score(df_test_label, predictions),\n",
    "\"\\nF1-Score:\", f1_score(df_test_label, predictions),\n",
    "\"\\nMean Squared Error:\", MSE(df_test_label, predictions))\n",
    "predictions = model.predict(df_scaled)\n",
    "print(\"\\nAccuracy auf den Trainingsdaten:\", accuracy_score(df_label, predictions))"
   ]
  },
  {
   "cell_type": "code",
   "execution_count": 38,
   "metadata": {},
   "outputs": [],
   "source": [
    "\"\"\"\n",
    " TODO Histogramm mit nan & Logistische Regression Warnung\n",
    " TODO Aufgabe 15 (Welche Werte wurden von allen Modellen falsch erkannt?)\n",
    " TODO evtl. Basketlänge & andere Features erstellen & testen\n",
    " TODO Autoren hinzufügen\n",
    " TODO Diese Zelle entfernen\n",
    "\"\"\"\n",
    "print(end='')"
   ]
  }
 ],
 "metadata": {
  "interpreter": {
   "hash": "ae13b8eca17deec1696758ee0e3e003a27846899ad876fefced1fca2b8e7b028"
  },
  "kernelspec": {
   "display_name": "Python 3.8.13 ('ml-course')",
   "language": "python",
   "name": "python3"
  },
  "language_info": {
   "codemirror_mode": {
    "name": "ipython",
    "version": 3
   },
   "file_extension": ".py",
   "mimetype": "text/x-python",
   "name": "python",
   "nbconvert_exporter": "python",
   "pygments_lexer": "ipython3",
   "version": "3.8.13"
  },
  "orig_nbformat": 4
 },
 "nbformat": 4,
 "nbformat_minor": 2
}
